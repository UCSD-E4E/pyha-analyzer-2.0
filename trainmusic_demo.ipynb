{
 "cells": [
  {
   "cell_type": "code",
   "execution_count": 1,
   "id": "3e6e606b",
   "metadata": {},
   "outputs": [],
   "source": [
    "%load_ext autoreload\n",
    "%reload_ext autoreload\n",
    "%autoreload 2"
   ]
  },
  {
   "cell_type": "code",
   "execution_count": 2,
   "id": "832aae08",
   "metadata": {},
   "outputs": [],
   "source": [
    "from pyha_analyzer import PyhaTrainer, PyhaTrainingArguments, extractors"
   ]
  },
  {
   "cell_type": "code",
   "execution_count": 19,
   "id": "834e3084",
   "metadata": {},
   "outputs": [
    {
     "data": {
      "application/vnd.jupyter.widget-view+json": {
       "model_id": "15ba45309a8845d18a32ab2ef1dc73ab",
       "version_major": 2,
       "version_minor": 0
      },
      "text/plain": [
       "Casting the dataset:   0%|          | 0/5061 [00:00<?, ? examples/s]"
      ]
     },
     "metadata": {},
     "output_type": "display_data"
    },
    {
     "data": {
      "application/vnd.jupyter.widget-view+json": {
       "model_id": "1c4aa89d821941578646db85c8348624",
       "version_major": 2,
       "version_minor": 0
      },
      "text/plain": [
       "Casting the dataset:   0%|          | 0/651 [00:00<?, ? examples/s]"
      ]
     },
     "metadata": {},
     "output_type": "display_data"
    },
    {
     "data": {
      "application/vnd.jupyter.widget-view+json": {
       "model_id": "7d54321e7fc047afbcc007c6a69a19c5",
       "version_major": 2,
       "version_minor": 0
      },
      "text/plain": [
       "Casting the dataset:   0%|          | 0/1519 [00:00<?, ? examples/s]"
      ]
     },
     "metadata": {},
     "output_type": "display_data"
    },
    {
     "data": {
      "text/plain": [
       "DatasetDict({\n",
       "    train: Dataset({\n",
       "        features: ['sample_rate', 'labels', 'filepath', 'audio', 'audio_in'],\n",
       "        num_rows: 5061\n",
       "    })\n",
       "    valid: Dataset({\n",
       "        features: ['sample_rate', 'labels', 'filepath', 'audio', 'audio_in'],\n",
       "        num_rows: 651\n",
       "    })\n",
       "    test: Dataset({\n",
       "        features: ['sample_rate', 'labels', 'filepath', 'audio', 'audio_in'],\n",
       "        num_rows: 1519\n",
       "    })\n",
       "})"
      ]
     },
     "execution_count": 19,
     "metadata": {},
     "output_type": "execute_result"
    }
   ],
   "source": [
    "music_extractor = extractors.Music()\n",
    "music_ads = music_extractor(\"/home/s.kamboj.400/unzipped-music\")\n",
    "music_ads"
   ]
  }
 ],
 "metadata": {
  "kernelspec": {
   "display_name": "pyha-analyzer",
   "language": "python",
   "name": "python3"
  },
  "language_info": {
   "codemirror_mode": {
    "name": "ipython",
    "version": 3
   },
   "file_extension": ".py",
   "mimetype": "text/x-python",
   "name": "python",
   "nbconvert_exporter": "python",
   "pygments_lexer": "ipython3",
   "version": "3.11.12"
  }
 },
 "nbformat": 4,
 "nbformat_minor": 5
}
