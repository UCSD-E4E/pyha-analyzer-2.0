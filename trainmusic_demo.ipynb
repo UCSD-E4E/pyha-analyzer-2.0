{
 "cells": [
  {
   "cell_type": "code",
   "execution_count": null,
   "id": "ab0c5182",
   "metadata": {},
   "outputs": [],
   "source": [
    "%load_ext autoreload\n",
    "%reload_ext autoreload\n",
    "%autoreload 2"
   ]
  },
  {
   "cell_type": "code",
   "execution_count": null,
   "id": "ea8e230b",
   "metadata": {},
   "outputs": [],
   "source": [
    "from pyha_analyzer import extractors"
   ]
  },
  {
   "cell_type": "code",
   "execution_count": null,
   "id": "4608a652",
   "metadata": {},
   "outputs": [],
   "source": [
    "music_extractor = extractors.Music()\n",
    "music_ads = music_extractor(\"/home/s.kamboj.400/unzipped-music\")\n",
    "music_ads"
   ]
  }
 ],
 "metadata": {
  "kernelspec": {
   "display_name": "pyha-analyzer",
   "language": "python",
   "name": "python3"
  },
  "language_info": {
   "name": "python",
   "version": "3.11.12"
  }
 },
 "nbformat": 4,
 "nbformat_minor": 5
}
