{
 "cells": [
  {
   "cell_type": "code",
   "execution_count": 1,
   "id": "ab0c5182",
   "metadata": {},
   "outputs": [],
   "source": [
    "%load_ext autoreload\n",
    "%reload_ext autoreload\n",
    "%autoreload 2"
   ]
  },
  {
   "cell_type": "code",
   "execution_count": 2,
   "id": "ea8e230b",
   "metadata": {},
   "outputs": [],
   "source": [
    "from pyha_analyzer import extractors"
   ]
  },
  {
   "cell_type": "code",
   "execution_count": 3,
   "id": "4608a652",
   "metadata": {},
   "outputs": [
    {
     "data": {
      "application/vnd.jupyter.widget-view+json": {
       "model_id": "b44931983be54eb9bd957083dd87b4a3",
       "version_major": 2,
       "version_minor": 0
      },
      "text/plain": [
       "Casting the dataset:   0%|          | 0/5061 [00:00<?, ? examples/s]"
      ]
     },
     "metadata": {},
     "output_type": "display_data"
    },
    {
     "data": {
      "application/vnd.jupyter.widget-view+json": {
       "model_id": "06a15635b3af4f09acd419ea416b294a",
       "version_major": 2,
       "version_minor": 0
      },
      "text/plain": [
       "Casting the dataset:   0%|          | 0/651 [00:00<?, ? examples/s]"
      ]
     },
     "metadata": {},
     "output_type": "display_data"
    },
    {
     "data": {
      "application/vnd.jupyter.widget-view+json": {
       "model_id": "4d3b025dfdba4583a9d3c9f48d6f9160",
       "version_major": 2,
       "version_minor": 0
      },
      "text/plain": [
       "Casting the dataset:   0%|          | 0/1519 [00:00<?, ? examples/s]"
      ]
     },
     "metadata": {},
     "output_type": "display_data"
    },
    {
     "data": {
      "text/plain": [
       "DatasetDict({\n",
       "    train: Dataset({\n",
       "        features: ['sample_rate', 'labels', 'filepath', 'audio', 'audio_in'],\n",
       "        num_rows: 5061\n",
       "    })\n",
       "    valid: Dataset({\n",
       "        features: ['sample_rate', 'labels', 'filepath', 'audio', 'audio_in'],\n",
       "        num_rows: 651\n",
       "    })\n",
       "    test: Dataset({\n",
       "        features: ['sample_rate', 'labels', 'filepath', 'audio', 'audio_in'],\n",
       "        num_rows: 1519\n",
       "    })\n",
       "})"
      ]
     },
     "execution_count": 3,
     "metadata": {},
     "output_type": "execute_result"
    }
   ],
   "source": [
    "music_extractor = extractors.Music()\n",
    "music_ads = music_extractor(\"/home/s.kamboj.400/unzipped-music\")\n",
    "music_ads"
   ]
  }
 ],
 "metadata": {
  "kernelspec": {
   "display_name": "pyha-analyzer",
   "language": "python",
   "name": "python3"
  },
  "language_info": {
   "codemirror_mode": {
    "name": "ipython",
    "version": 3
   },
   "file_extension": ".py",
   "mimetype": "text/x-python",
   "name": "python",
   "nbconvert_exporter": "python",
   "pygments_lexer": "ipython3",
   "version": "3.11.12"
  }
 },
 "nbformat": 4,
 "nbformat_minor": 5
}
