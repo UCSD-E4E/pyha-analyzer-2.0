{
 "cells": [
  {
   "cell_type": "code",
   "execution_count": 1,
   "id": "8149ca77",
   "metadata": {},
   "outputs": [],
   "source": [
    "%load_ext autoreload\n",
    "%autoreload 3"
   ]
  },
  {
   "cell_type": "code",
   "execution_count": 2,
   "id": "c3c153dd",
   "metadata": {},
   "outputs": [],
   "source": [
    "from pyha_analyzer import PyhaTrainer, PyhaTrainingArguments, extractors"
   ]
  },
  {
   "cell_type": "markdown",
   "id": "0f20fab9",
   "metadata": {},
   "source": [
    "# Loading in Data"
   ]
  },
  {
   "cell_type": "code",
   "execution_count": 3,
   "id": "3eadc0f9",
   "metadata": {},
   "outputs": [],
   "source": [
    "# Sorry TQ, I don't have these files mounted yet...\n",
    "# peru132_extr = extractors.Peru132Extractor()\n",
    "# peru_132_ads = peru132_extr(\"/data/XC_wav\")"
   ]
  },
  {
   "cell_type": "code",
   "execution_count": 4,
   "id": "8862a059",
   "metadata": {},
   "outputs": [],
   "source": [
    "# peru_132_ads = peru_132_ads.get_provenance()"
   ]
  },
  {
   "cell_type": "code",
   "execution_count": 5,
   "id": "91dfeaa0",
   "metadata": {},
   "outputs": [
    {
     "data": {
      "text/plain": [
       "DatasetDict({\n",
       "    train: Dataset({\n",
       "        features: ['audio', 'filepath', 'start_time', 'end_time', 'low_freq', 'high_freq', 'ebird_code', 'ebird_code_multilabel', 'ebird_code_secondary', 'call_type', 'sex', 'lat', 'long', 'length', 'microphone', 'license', 'source', 'local_time', 'detected_events', 'event_cluster', 'peaks', 'quality', 'recordist', 'genus', 'species_group', 'order', 'genus_multilabel', 'species_group_multilabel', 'order_multilabel', 'audio_in', 'labels'],\n",
       "        num_rows: 4368\n",
       "    })\n",
       "    valid: Dataset({\n",
       "        features: ['audio', 'filepath', 'start_time', 'end_time', 'low_freq', 'high_freq', 'ebird_code', 'ebird_code_multilabel', 'ebird_code_secondary', 'call_type', 'sex', 'lat', 'long', 'length', 'microphone', 'license', 'source', 'local_time', 'detected_events', 'event_cluster', 'peaks', 'quality', 'recordist', 'genus', 'species_group', 'order', 'genus_multilabel', 'species_group_multilabel', 'order_multilabel', 'audio_in', 'labels'],\n",
       "        num_rows: 1092\n",
       "    })\n",
       "    test: Dataset({\n",
       "        features: ['audio', 'filepath', 'start_time', 'end_time', 'low_freq', 'high_freq', 'ebird_code', 'ebird_code_multilabel', 'ebird_code_secondary', 'call_type', 'sex', 'lat', 'long', 'length', 'microphone', 'license', 'source', 'local_time', 'detected_events', 'event_cluster', 'peaks', 'quality', 'recordist', 'genus', 'species_group', 'order', 'genus_multilabel', 'species_group_multilabel', 'order_multilabel', 'audio_in', 'labels'],\n",
       "        num_rows: 12000\n",
       "    })\n",
       "})"
      ]
     },
     "execution_count": 5,
     "metadata": {},
     "output_type": "execute_result"
    }
   ],
   "source": [
    "birdset_extactor = extractors.Birdset()\n",
    "\n",
    "hsn_ads = birdset_extactor(\"HSN\")\n",
    "# per_ads = birdset_extactor(\"PER\")\n",
    "\n",
    "hsn_ads"
   ]
  },
  {
   "cell_type": "markdown",
   "id": "fa44f245",
   "metadata": {},
   "source": [
    "# Online Preprocessing example\n",
    "\n",
    "Suppose we just wanted spectrograms with no audio preprocessing"
   ]
  },
  {
   "cell_type": "code",
   "execution_count": 6,
   "id": "799ff026",
   "metadata": {},
   "outputs": [
    {
     "data": {
      "text/plain": [
       "{'bytes': None,\n",
       " 'path': '/home/s.perry.543/.cache/huggingface/datasets/downloads/extracted/e7a5318118cabfab47a509edeb627860a60537535aeea20a19fced4c110d579e/HSN_001_20150708_061805_000_005.ogg'}"
      ]
     },
     "execution_count": 6,
     "metadata": {},
     "output_type": "execute_result"
    }
   ],
   "source": [
    "hsn_ads[\"test\"][0][\"audio\"]"
   ]
  },
  {
   "cell_type": "code",
   "execution_count": 7,
   "id": "bfe2c636",
   "metadata": {},
   "outputs": [
    {
     "data": {
      "text/plain": [
       "{'audio': {'bytes': None,\n",
       "  'path': '/home/s.perry.543/.cache/huggingface/datasets/downloads/extracted/053832b39de8ba5377824eb2d8364a1e31d9355ede4974f3741a1daa9822e8ab/XC535222.ogg'},\n",
       " 'filepath': '/home/s.perry.543/.cache/huggingface/datasets/downloads/extracted/053832b39de8ba5377824eb2d8364a1e31d9355ede4974f3741a1daa9822e8ab/XC535222.ogg',\n",
       " 'start_time': None,\n",
       " 'end_time': None,\n",
       " 'low_freq': None,\n",
       " 'high_freq': None,\n",
       " 'ebird_code': 15,\n",
       " 'ebird_code_multilabel': [15],\n",
       " 'ebird_code_secondary': [],\n",
       " 'call_type': 'song',\n",
       " 'sex': None,\n",
       " 'lat': 67.00975,\n",
       " 'long': -154.70158,\n",
       " 'length': 44,\n",
       " 'microphone': 'focal',\n",
       " 'license': '//creativecommons.org/licenses/by-nc-sa/4.0/',\n",
       " 'source': 'xenocanto',\n",
       " 'local_time': '08:46:17',\n",
       " 'detected_events': [[2.112, 3.408],\n",
       "  [10.096, 11.536],\n",
       "  [19.2, 20.672],\n",
       "  [27.168, 28.656],\n",
       "  [35.456, 36.896]],\n",
       " 'event_cluster': [0, -1, 0, 0, -1],\n",
       " 'peaks': [10.81238268483804,\n",
       "  11.00885157447716,\n",
       "  11.205226714049646,\n",
       "  19.90463914710638,\n",
       "  20.115545547006878,\n",
       "  20.315576939178023,\n",
       "  27.905051083352582,\n",
       "  28.124832489560937,\n",
       "  28.30242636578475,\n",
       "  36.18052571509799,\n",
       "  36.38899461326605,\n",
       "  36.59761976154516],\n",
       " 'quality': 'C',\n",
       " 'recordist': 'Betchkal, Davyd',\n",
       " 'genus': 15,\n",
       " 'species_group': 11,\n",
       " 'order': 2,\n",
       " 'genus_multilabel': [15],\n",
       " 'species_group_multilabel': [11],\n",
       " 'order_multilabel': [2],\n",
       " 'audio_in': {'bytes': None,\n",
       "  'path': '/home/s.perry.543/.cache/huggingface/datasets/downloads/extracted/053832b39de8ba5377824eb2d8364a1e31d9355ede4974f3741a1daa9822e8ab/XC535222.ogg'},\n",
       " 'labels': [15]}"
      ]
     },
     "execution_count": 7,
     "metadata": {},
     "output_type": "execute_result"
    }
   ],
   "source": [
    "hsn_ads[\"train\"][0]"
   ]
  },
  {
   "cell_type": "code",
   "execution_count": 8,
   "id": "835d7239",
   "metadata": {},
   "outputs": [
    {
     "data": {
      "text/plain": [
       "array([[[0.00392157, 0.01568628, 0.08235294, ..., 0.00392157,\n",
       "         0.00784314, 0.01176471],\n",
       "        [0.        , 0.00392157, 0.00784314, ..., 0.00392157,\n",
       "         0.        , 0.        ],\n",
       "        [0.        , 0.        , 0.        , ..., 0.        ,\n",
       "         0.        , 0.        ],\n",
       "        ...,\n",
       "        [0.        , 0.        , 0.        , ..., 0.        ,\n",
       "         0.        , 0.        ],\n",
       "        [0.        , 0.        , 0.        , ..., 0.        ,\n",
       "         0.        , 0.        ],\n",
       "        [0.        , 0.        , 0.        , ..., 0.        ,\n",
       "         0.        , 0.        ]]], shape=(1, 128, 216), dtype=float32)"
      ]
     },
     "execution_count": 8,
     "metadata": {},
     "output_type": "execute_result"
    }
   ],
   "source": [
    "from pyha_analyzer.preprocessors import MelSpectrogramPreprocessors\n",
    "\n",
    "# preprocessor acts as a function for processing\n",
    "# class allows us to configure parameters and whatnot\n",
    "preprocessor = MelSpectrogramPreprocessors(duration=5, class_list=hsn_ads[\"train\"].features[\"labels\"].feature.names)\n",
    "\n",
    "# Set split spefific transforms here\n",
    "# If preprocessor had data augmentations, probably want to disable for training\n",
    "hsn_ads[\"train\"].set_transform(preprocessor)\n",
    "hsn_ads[\"valid\"].set_transform(preprocessor)\n",
    "hsn_ads[\"test\"].set_transform(preprocessor)\n",
    "hsn_ads[\"train\"][[0, 1]][\"audio\"][0]"
   ]
  },
  {
   "cell_type": "code",
   "execution_count": 9,
   "id": "98201ece",
   "metadata": {},
   "outputs": [
    {
     "data": {
      "text/plain": [
       "array([[0., 0., 0., 0., 0., 0., 0., 0., 0., 0., 0., 0., 0., 0., 0., 1.,\n",
       "        0., 0., 0., 0., 0.],\n",
       "       [0., 0., 0., 0., 0., 0., 0., 0., 0., 0., 0., 0., 0., 0., 0., 0.,\n",
       "        0., 0., 0., 0., 1.]])"
      ]
     },
     "execution_count": 9,
     "metadata": {},
     "output_type": "execute_result"
    }
   ],
   "source": [
    "hsn_ads[\"train\"][[0, 1]][\"labels\"]"
   ]
  },
  {
   "cell_type": "markdown",
   "id": "505d27af",
   "metadata": {},
   "source": [
    "# Model Training\n",
    "\n",
    "As a demo, implementing a model here because we haven't fleshed out the AudioDataset api yet\n",
    "\n",
    "In the future this exists in `/pyha_analyzer/models/`"
   ]
  },
  {
   "cell_type": "code",
   "execution_count": 10,
   "id": "e83ab7bb",
   "metadata": {},
   "outputs": [],
   "source": [
    "from pyha_analyzer.models.demo_CNN import ResnetConfig, ResnetModel\n",
    "\n",
    "# Going to make notes on anything that should be handled not here\n",
    "# This is one of these things, this should be handled by potentially pyha_trainer\n",
    "resnet50d_config = ResnetConfig(\n",
    "    num_classes=len(hsn_ads[\"train\"].features[\"ebird_code\"].names), input_channels=1\n",
    ")\n",
    "model = ResnetModel(resnet50d_config)"
   ]
  },
  {
   "cell_type": "code",
   "execution_count": 11,
   "id": "1424f590",
   "metadata": {},
   "outputs": [
    {
     "name": "stderr",
     "output_type": "stream",
     "text": [
      "\u001b[34m\u001b[1mwandb\u001b[0m: Currently logged in as: \u001b[33mshperry\u001b[0m (\u001b[33macoustic-species-identification\u001b[0m) to \u001b[32mhttps://api.wandb.ai\u001b[0m. Use \u001b[1m`wandb login --relogin`\u001b[0m to force relogin\n",
      "\u001b[34m\u001b[1mwandb\u001b[0m: \u001b[33mWARNING\u001b[0m The `run_name` is currently set to the same value as `TrainingArguments.output_dir`. If this was not intended, please specify a different run name by setting the `TrainingArguments.run_name` parameter.\n"
     ]
    },
    {
     "data": {
      "text/html": [
       "Changes to your `wandb` environment variables will be ignored because your `wandb` session has already started. For more information on how to modify your settings with `wandb.init()` arguments, please refer to <a href='https://wandb.me/wandb-init' target=\"_blank\">the W&B docs</a>."
      ],
      "text/plain": [
       "<IPython.core.display.HTML object>"
      ]
     },
     "metadata": {},
     "output_type": "display_data"
    },
    {
     "data": {
      "text/html": [
       "Tracking run with wandb version 0.19.10"
      ],
      "text/plain": [
       "<IPython.core.display.HTML object>"
      ]
     },
     "metadata": {},
     "output_type": "display_data"
    },
    {
     "data": {
      "text/html": [
       "Run data is saved locally in <code>/home/s.perry.543/pyha-analyzer-2.0/wandb/run-20250512_121552-i6b7i48h</code>"
      ],
      "text/plain": [
       "<IPython.core.display.HTML object>"
      ]
     },
     "metadata": {},
     "output_type": "display_data"
    },
    {
     "data": {
      "text/html": [
       "Syncing run <strong><a href='https://wandb.ai/acoustic-species-identification/pa2.0_test/runs/i6b7i48h' target=\"_blank\">working_dir</a></strong> to <a href='https://wandb.ai/acoustic-species-identification/pa2.0_test' target=\"_blank\">Weights & Biases</a> (<a href='https://wandb.me/developer-guide' target=\"_blank\">docs</a>)<br>"
      ],
      "text/plain": [
       "<IPython.core.display.HTML object>"
      ]
     },
     "metadata": {},
     "output_type": "display_data"
    },
    {
     "data": {
      "text/html": [
       " View project at <a href='https://wandb.ai/acoustic-species-identification/pa2.0_test' target=\"_blank\">https://wandb.ai/acoustic-species-identification/pa2.0_test</a>"
      ],
      "text/plain": [
       "<IPython.core.display.HTML object>"
      ]
     },
     "metadata": {},
     "output_type": "display_data"
    },
    {
     "data": {
      "text/html": [
       " View run at <a href='https://wandb.ai/acoustic-species-identification/pa2.0_test/runs/i6b7i48h' target=\"_blank\">https://wandb.ai/acoustic-species-identification/pa2.0_test/runs/i6b7i48h</a>"
      ],
      "text/plain": [
       "<IPython.core.display.HTML object>"
      ]
     },
     "metadata": {},
     "output_type": "display_data"
    },
    {
     "name": "stderr",
     "output_type": "stream",
     "text": [
      "Could not estimate the number of tokens of the input, floating-point operations will not be computed\n"
     ]
    },
    {
     "data": {
      "text/html": [
       "\n",
       "    <div>\n",
       "      \n",
       "      <progress value='69' max='69' style='width:300px; height:20px; vertical-align: middle;'></progress>\n",
       "      [69/69 05:41, Epoch 1/1]\n",
       "    </div>\n",
       "    <table border=\"1\" class=\"dataframe\">\n",
       "  <thead>\n",
       " <tr style=\"text-align: left;\">\n",
       "      <th>Step</th>\n",
       "      <th>Training Loss</th>\n",
       "      <th>Validation Loss</th>\n",
       "    </tr>\n",
       "  </thead>\n",
       "  <tbody>\n",
       "  </tbody>\n",
       "</table><p>"
      ],
      "text/plain": [
       "<IPython.core.display.HTML object>"
      ]
     },
     "metadata": {},
     "output_type": "display_data"
    },
    {
     "data": {
      "text/plain": [
       "TrainOutput(global_step=69, training_loss=0.4575408703999795, metrics={'train_runtime': 382.1448, 'train_samples_per_second': 11.43, 'train_steps_per_second': 0.181, 'total_flos': 0.0, 'train_loss': 0.4575408703999795, 'epoch': 1.0})"
      ]
     },
     "execution_count": 11,
     "metadata": {},
     "output_type": "execute_result"
    }
   ],
   "source": [
    "args = PyhaTrainingArguments(\n",
    "    working_dir=\"working_dir\"\n",
    ")\n",
    "args.num_train_epochs = 1\n",
    "args.eval_steps = 500\n",
    "\n",
    "trainer = PyhaTrainer(\n",
    "    model=model,\n",
    "    dataset=hsn_ads,\n",
    "    training_args=args\n",
    ")\n",
    "trainer.train()"
   ]
  },
  {
   "cell_type": "code",
   "execution_count": 12,
   "id": "dc9c2aaa",
   "metadata": {},
   "outputs": [
    {
     "data": {
      "text/html": [
       "\n",
       "    <div>\n",
       "      \n",
       "      <progress value='1500' max='1500' style='width:300px; height:20px; vertical-align: middle;'></progress>\n",
       "      [1500/1500 08:32]\n",
       "    </div>\n",
       "    "
      ],
      "text/plain": [
       "<IPython.core.display.HTML object>"
      ]
     },
     "metadata": {},
     "output_type": "display_data"
    }
   ],
   "source": [
    "trainer.evaluate(eval_dataset=hsn_ads[\"test\"], metric_key_prefix=\"Soundscape\")"
   ]
  },
  {
   "cell_type": "markdown",
   "id": "6e38eb82",
   "metadata": {},
   "source": [
    "#"
   ]
  }
 ],
 "metadata": {
  "kernelspec": {
   "display_name": ".venv",
   "language": "python",
   "name": "python3"
  },
  "language_info": {
   "codemirror_mode": {
    "name": "ipython",
    "version": 3
   },
   "file_extension": ".py",
   "mimetype": "text/x-python",
   "name": "python",
   "nbconvert_exporter": "python",
   "pygments_lexer": "ipython3",
   "version": "3.11.11"
  }
 },
 "nbformat": 4,
 "nbformat_minor": 5
}
