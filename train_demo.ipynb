{
 "cells": [
  {
   "cell_type": "code",
   "execution_count": 1,
   "id": "8149ca77",
   "metadata": {},
   "outputs": [],
   "source": [
    "%load_ext autoreload\n",
    "%reload_ext autoreload\n",
    "%autoreload 2"
   ]
  },
  {
   "cell_type": "code",
   "execution_count": 2,
   "id": "c3c153dd",
   "metadata": {},
   "outputs": [],
   "source": [
    "from pyha_analyzer import PyhaTrainer, PyhaTrainingArguments, extractors"
   ]
  },
  {
   "cell_type": "markdown",
   "id": "0f20fab9",
   "metadata": {},
   "source": [
    "# Loading in Data"
   ]
  },
  {
   "cell_type": "code",
   "execution_count": 3,
   "id": "3eadc0f9",
   "metadata": {},
   "outputs": [],
   "source": [
    "# Sorry TQ, I don't have these files mounted yet...\n",
    "# peru132_extr = extractors.Peru132Extractor()\n",
    "# peru_132_ads = peru132_extr(\"/data/XC_wav\")"
   ]
  },
  {
   "cell_type": "code",
   "execution_count": 4,
   "id": "8862a059",
   "metadata": {},
   "outputs": [],
   "source": [
    "# peru_132_ads = peru_132_ads.get_provenance()"
   ]
  },
  {
   "cell_type": "code",
   "execution_count": 27,
   "id": "91dfeaa0",
   "metadata": {},
   "outputs": [
    {
     "name": "stdout",
     "output_type": "stream",
     "text": [
      "Extracting features from /home/s.kamboj.400/unzipped-coral/Degraded_Reef/April_2024_Pavonas/20240306_000000.WAV\n",
      "Extracting features from /home/s.kamboj.400/unzipped-coral/Degraded_Reef/April_2024_Pavonas/20240306_000100.WAV\n",
      "Extracting features from /home/s.kamboj.400/unzipped-coral/Degraded_Reef/April_2024_Pavonas/20240306_000200.WAV\n",
      "Extracting features from /home/s.kamboj.400/unzipped-coral/Degraded_Reef/April_2024_Pavonas/20240306_000300.WAV\n",
      "Extracting features from /home/s.kamboj.400/unzipped-coral/Degraded_Reef/April_2024_Pavonas/20240306_000400.WAV\n",
      "Extracting features from /home/s.kamboj.400/unzipped-coral/Degraded_Reef/April_2024_Pavonas/20240306_000500.WAV\n",
      "Extracting features from /home/s.kamboj.400/unzipped-coral/Degraded_Reef/April_2024_Pavonas/20240306_000600.WAV\n",
      "Extracting features from /home/s.kamboj.400/unzipped-coral/Degraded_Reef/April_2024_Pavonas/20240306_000700.WAV\n",
      "Extracting features from /home/s.kamboj.400/unzipped-coral/Degraded_Reef/April_2024_Pavonas/20240306_000800.WAV\n",
      "Extracting features from /home/s.kamboj.400/unzipped-coral/Degraded_Reef/April_2024_Pavonas/20240306_000900.WAV\n",
      "Extracting features from /home/s.kamboj.400/unzipped-coral/Degraded_Reef/April_2024_Pavonas/20240306_001000.WAV\n",
      "Extracting features from /home/s.kamboj.400/unzipped-coral/Degraded_Reef/April_2024_Pavonas/20240306_001100.WAV\n",
      "Extracting features from /home/s.kamboj.400/unzipped-coral/Degraded_Reef/April_2024_Pavonas/20240306_001200.WAV\n",
      "Extracting features from /home/s.kamboj.400/unzipped-coral/Degraded_Reef/April_2024_Pavonas/20240306_001300.WAV\n",
      "Extracting features from /home/s.kamboj.400/unzipped-coral/Degraded_Reef/April_2024_Pavonas/20240306_001400.WAV\n",
      "Extracting features from /home/s.kamboj.400/unzipped-coral/Degraded_Reef/April_2024_Pavonas/20240306_001500.WAV\n",
      "Extracting features from /home/s.kamboj.400/unzipped-coral/Degraded_Reef/April_2024_Pavonas/20240306_001600.WAV\n",
      "Extracting features from /home/s.kamboj.400/unzipped-coral/Degraded_Reef/April_2024_Pavonas/20240306_001700.WAV\n",
      "Extracting features from /home/s.kamboj.400/unzipped-coral/Degraded_Reef/April_2024_Pavonas/20240306_001800.WAV\n",
      "Extracting features from /home/s.kamboj.400/unzipped-coral/Degraded_Reef/April_2024_Pavonas/20240306_001900.WAV\n",
      "Extracting features from /home/s.kamboj.400/unzipped-coral/Degraded_Reef/April_2024_Pavonas/20240306_002000.WAV\n",
      "Extracting features from /home/s.kamboj.400/unzipped-coral/Degraded_Reef/April_2024_Pavonas/20240306_002100.WAV\n",
      "Extracting features from /home/s.kamboj.400/unzipped-coral/Degraded_Reef/April_2024_Pavonas/20240306_002200.WAV\n",
      "Extracting features from /home/s.kamboj.400/unzipped-coral/Degraded_Reef/April_2024_Pavonas/20240306_002300.WAV\n",
      "Extracting features from /home/s.kamboj.400/unzipped-coral/Degraded_Reef/April_2024_Pavonas/20240306_002400.WAV\n",
      "Extracting features from /home/s.kamboj.400/unzipped-coral/Degraded_Reef/April_2024_Pavonas/20240306_002500.WAV\n",
      "Extracting features from /home/s.kamboj.400/unzipped-coral/Degraded_Reef/April_2024_Pavonas/20240306_002600.WAV\n",
      "Extracting features from /home/s.kamboj.400/unzipped-coral/Degraded_Reef/April_2024_Pavonas/20240306_002700.WAV\n",
      "Extracting features from /home/s.kamboj.400/unzipped-coral/Degraded_Reef/April_2024_Pavonas/20240306_002800.WAV\n",
      "Extracting features from /home/s.kamboj.400/unzipped-coral/Degraded_Reef/April_2024_Pavonas/20240306_002900.WAV\n",
      "Extracting features from /home/s.kamboj.400/unzipped-coral/Degraded_Reef/April_2024_Pavonas/20240306_003000.WAV\n",
      "Extracting features from /home/s.kamboj.400/unzipped-coral/Degraded_Reef/April_2024_Pavonas/20240306_003100.WAV\n",
      "Extracting features from /home/s.kamboj.400/unzipped-coral/Degraded_Reef/April_2024_Pavonas/20240306_003200.WAV\n",
      "Extracting features from /home/s.kamboj.400/unzipped-coral/Degraded_Reef/April_2024_Pavonas/20240306_003300.WAV\n",
      "Extracting features from /home/s.kamboj.400/unzipped-coral/Degraded_Reef/April_2024_Pavonas/20240306_003400.WAV\n",
      "Extracting features from /home/s.kamboj.400/unzipped-coral/Degraded_Reef/April_2024_Pavonas/20240306_003500.WAV\n",
      "Extracting features from /home/s.kamboj.400/unzipped-coral/Degraded_Reef/April_2024_Pavonas/20240306_003600.WAV\n",
      "Extracting features from /home/s.kamboj.400/unzipped-coral/Degraded_Reef/April_2024_Pavonas/20240306_003700.WAV\n",
      "Extracting features from /home/s.kamboj.400/unzipped-coral/Degraded_Reef/April_2024_Pavonas/20240306_003800.WAV\n",
      "Extracting features from /home/s.kamboj.400/unzipped-coral/Degraded_Reef/April_2024_Pavonas/20240306_003900.WAV\n",
      "Extracting features from /home/s.kamboj.400/unzipped-coral/Degraded_Reef/April_2024_Pavonas/20240306_004000.WAV\n",
      "Extracting features from /home/s.kamboj.400/unzipped-coral/Degraded_Reef/April_2024_Pavonas/20240306_004100.WAV\n",
      "Extracting features from /home/s.kamboj.400/unzipped-coral/Degraded_Reef/April_2024_Pavonas/20240306_004200.WAV\n",
      "Extracting features from /home/s.kamboj.400/unzipped-coral/Degraded_Reef/April_2024_Pavonas/20240306_004300.WAV\n",
      "Extracting features from /home/s.kamboj.400/unzipped-coral/Degraded_Reef/April_2024_Pavonas/20240306_004400.WAV\n",
      "Extracting features from /home/s.kamboj.400/unzipped-coral/Degraded_Reef/April_2024_Pavonas/20240306_004500.WAV\n",
      "Extracting features from /home/s.kamboj.400/unzipped-coral/Degraded_Reef/April_2024_Pavonas/20240306_004600.WAV\n",
      "Extracting features from /home/s.kamboj.400/unzipped-coral/Degraded_Reef/April_2024_Pavonas/20240306_004700.WAV\n",
      "Extracting features from /home/s.kamboj.400/unzipped-coral/Degraded_Reef/April_2024_Pavonas/20240306_004800.WAV\n",
      "Extracting features from /home/s.kamboj.400/unzipped-coral/Degraded_Reef/April_2024_Pavonas/20240306_004900.WAV\n",
      "Extracting features from /home/s.kamboj.400/unzipped-coral/Degraded_Reef/April_2024_Pavonas/20240306_005000.WAV\n",
      "Extracting features from /home/s.kamboj.400/unzipped-coral/Degraded_Reef/April_2024_Pavonas/20240306_005100.WAV\n",
      "Extracting features from /home/s.kamboj.400/unzipped-coral/Degraded_Reef/April_2024_Pavonas/20240306_005200.WAV\n",
      "Extracting features from /home/s.kamboj.400/unzipped-coral/Degraded_Reef/April_2024_Pavonas/20240306_005300.WAV\n",
      "Extracting features from /home/s.kamboj.400/unzipped-coral/Degraded_Reef/April_2024_Pavonas/20240306_005400.WAV\n",
      "Extracting features from /home/s.kamboj.400/unzipped-coral/Degraded_Reef/April_2024_Pavonas/20240306_005500.WAV\n",
      "Extracting features from /home/s.kamboj.400/unzipped-coral/Degraded_Reef/April_2024_Pavonas/20240306_005600.WAV\n",
      "Extracting features from /home/s.kamboj.400/unzipped-coral/Degraded_Reef/April_2024_Pavonas/20240306_005700.WAV\n",
      "Extracting features from /home/s.kamboj.400/unzipped-coral/Degraded_Reef/April_2024_Pavonas/20240306_005800.WAV\n",
      "Extracting features from /home/s.kamboj.400/unzipped-coral/Degraded_Reef/April_2024_Pavonas/20240306_005900.WAV\n",
      "Extracting features from /home/s.kamboj.400/unzipped-coral/Degraded_Reef/April_2024_Pavonas/20240306_010000.WAV\n",
      "Extracting features from /home/s.kamboj.400/unzipped-coral/Degraded_Reef/April_2024_Pavonas/20240306_010100.WAV\n",
      "Extracting features from /home/s.kamboj.400/unzipped-coral/Degraded_Reef/April_2024_Pavonas/20240306_010200.WAV\n",
      "Extracting features from /home/s.kamboj.400/unzipped-coral/Degraded_Reef/April_2024_Pavonas/20240306_010300.WAV\n",
      "Extracting features from /home/s.kamboj.400/unzipped-coral/Degraded_Reef/April_2024_Pavonas/20240306_010400.WAV\n",
      "Extracting features from /home/s.kamboj.400/unzipped-coral/Degraded_Reef/April_2024_Pavonas/20240306_010500.WAV\n",
      "Extracting features from /home/s.kamboj.400/unzipped-coral/Degraded_Reef/April_2024_Pavonas/20240306_010600.WAV\n",
      "Extracting features from /home/s.kamboj.400/unzipped-coral/Degraded_Reef/April_2024_Pavonas/20240306_010700.WAV\n",
      "Extracting features from /home/s.kamboj.400/unzipped-coral/Degraded_Reef/April_2024_Pavonas/20240306_010800.WAV\n",
      "Extracting features from /home/s.kamboj.400/unzipped-coral/Degraded_Reef/April_2024_Pavonas/20240306_010900.WAV\n",
      "Extracting features from /home/s.kamboj.400/unzipped-coral/Degraded_Reef/April_2024_Pavonas/20240306_011000.WAV\n",
      "Extracting features from /home/s.kamboj.400/unzipped-coral/Degraded_Reef/April_2024_Pavonas/20240306_011100.WAV\n",
      "Extracting features from /home/s.kamboj.400/unzipped-coral/Degraded_Reef/April_2024_Pavonas/20240306_011200.WAV\n",
      "Extracting features from /home/s.kamboj.400/unzipped-coral/Degraded_Reef/April_2024_Pavonas/20240306_011300.WAV\n",
      "Extracting features from /home/s.kamboj.400/unzipped-coral/Degraded_Reef/April_2024_Pavonas/20240306_011400.WAV\n",
      "Extracting features from /home/s.kamboj.400/unzipped-coral/Degraded_Reef/April_2024_Pavonas/20240306_011500.WAV\n",
      "Extracting features from /home/s.kamboj.400/unzipped-coral/Degraded_Reef/April_2024_Pavonas/20240306_011600.WAV\n",
      "Extracting features from /home/s.kamboj.400/unzipped-coral/Degraded_Reef/April_2024_Pavonas/20240306_011700.WAV\n",
      "Extracting features from /home/s.kamboj.400/unzipped-coral/Degraded_Reef/April_2024_Pavonas/20240306_011800.WAV\n",
      "Extracting features from /home/s.kamboj.400/unzipped-coral/Degraded_Reef/April_2024_Pavonas/20240306_011900.WAV\n",
      "Extracting features from /home/s.kamboj.400/unzipped-coral/Degraded_Reef/April_2024_Pavonas/20240306_012000.WAV\n",
      "Extracting features from /home/s.kamboj.400/unzipped-coral/Degraded_Reef/April_2024_Pavonas/20240306_012100.WAV\n",
      "Extracting features from /home/s.kamboj.400/unzipped-coral/Degraded_Reef/April_2024_Pavonas/20240306_012200.WAV\n",
      "Extracting features from /home/s.kamboj.400/unzipped-coral/Degraded_Reef/April_2024_Pavonas/20240306_012300.WAV\n",
      "Extracting features from /home/s.kamboj.400/unzipped-coral/Degraded_Reef/April_2024_Pavonas/20240306_012400.WAV\n",
      "Extracting features from /home/s.kamboj.400/unzipped-coral/Degraded_Reef/April_2024_Pavonas/20240306_012500.WAV\n",
      "Extracting features from /home/s.kamboj.400/unzipped-coral/Degraded_Reef/April_2024_Pavonas/20240306_012600.WAV\n",
      "Extracting features from /home/s.kamboj.400/unzipped-coral/Degraded_Reef/April_2024_Pavonas/20240306_012700.WAV\n",
      "Extracting features from /home/s.kamboj.400/unzipped-coral/Degraded_Reef/April_2024_Pavonas/20240306_012800.WAV\n",
      "Extracting features from /home/s.kamboj.400/unzipped-coral/Degraded_Reef/April_2024_Pavonas/20240306_012900.WAV\n",
      "Extracting features from /home/s.kamboj.400/unzipped-coral/Degraded_Reef/April_2024_Pavonas/20240306_013000.WAV\n",
      "Extracting features from /home/s.kamboj.400/unzipped-coral/Degraded_Reef/April_2024_Pavonas/20240306_013100.WAV\n",
      "Extracting features from /home/s.kamboj.400/unzipped-coral/Degraded_Reef/April_2024_Pavonas/20240306_013200.WAV\n",
      "Extracting features from /home/s.kamboj.400/unzipped-coral/Degraded_Reef/April_2024_Pavonas/20240306_013300.WAV\n",
      "Extracting features from /home/s.kamboj.400/unzipped-coral/Degraded_Reef/April_2024_Pavonas/20240306_013400.WAV\n",
      "Extracting features from /home/s.kamboj.400/unzipped-coral/Degraded_Reef/April_2024_Pavonas/20240306_013500.WAV\n",
      "Extracting features from /home/s.kamboj.400/unzipped-coral/Degraded_Reef/April_2024_Pavonas/20240306_013600.WAV\n",
      "Extracting features from /home/s.kamboj.400/unzipped-coral/Degraded_Reef/April_2024_Pavonas/20240306_013700.WAV\n",
      "Extracting features from /home/s.kamboj.400/unzipped-coral/Degraded_Reef/April_2024_Pavonas/20240306_013800.WAV\n",
      "Extracting features from /home/s.kamboj.400/unzipped-coral/Degraded_Reef/April_2024_Pavonas/20240306_013900.WAV\n",
      "Extracting features from /home/s.kamboj.400/unzipped-coral/Degraded_Reef/April_2024_Pavonas/20240306_014000.WAV\n",
      "Extracting features from /home/s.kamboj.400/unzipped-coral/Degraded_Reef/April_2024_Pavonas/20240306_014100.WAV\n",
      "Extracting features from /home/s.kamboj.400/unzipped-coral/Degraded_Reef/April_2024_Pavonas/20240306_014200.WAV\n",
      "Extracting features from /home/s.kamboj.400/unzipped-coral/Degraded_Reef/April_2024_Pavonas/20240306_014300.WAV\n",
      "Extracting features from /home/s.kamboj.400/unzipped-coral/Degraded_Reef/April_2024_Pavonas/20240306_014400.WAV\n",
      "Extracting features from /home/s.kamboj.400/unzipped-coral/Degraded_Reef/April_2024_Pavonas/20240306_014500.WAV\n",
      "Extracting features from /home/s.kamboj.400/unzipped-coral/Degraded_Reef/April_2024_Pavonas/20240306_014600.WAV\n",
      "Extracting features from /home/s.kamboj.400/unzipped-coral/Degraded_Reef/April_2024_Pavonas/20240306_014700.WAV\n",
      "Extracting features from /home/s.kamboj.400/unzipped-coral/Degraded_Reef/April_2024_Pavonas/20240306_014800.WAV\n",
      "Extracting features from /home/s.kamboj.400/unzipped-coral/Degraded_Reef/April_2024_Pavonas/20240306_014900.WAV\n",
      "Extracting features from /home/s.kamboj.400/unzipped-coral/Degraded_Reef/April_2024_Pavonas/20240306_015000.WAV\n",
      "Extracting features from /home/s.kamboj.400/unzipped-coral/Degraded_Reef/April_2024_Pavonas/20240306_015100.WAV\n",
      "Extracting features from /home/s.kamboj.400/unzipped-coral/Degraded_Reef/April_2024_Pavonas/20240306_015200.WAV\n",
      "Extracting features from /home/s.kamboj.400/unzipped-coral/Degraded_Reef/April_2024_Pavonas/20240306_015300.WAV\n",
      "Extracting features from /home/s.kamboj.400/unzipped-coral/Degraded_Reef/April_2024_Pavonas/20240306_015400.WAV\n",
      "Extracting features from /home/s.kamboj.400/unzipped-coral/Degraded_Reef/April_2024_Pavonas/20240306_015500.WAV\n",
      "Extracting features from /home/s.kamboj.400/unzipped-coral/Degraded_Reef/April_2024_Pavonas/20240306_015600.WAV\n",
      "Extracting features from /home/s.kamboj.400/unzipped-coral/Degraded_Reef/April_2024_Pavonas/20240306_015700.WAV\n",
      "Extracting features from /home/s.kamboj.400/unzipped-coral/Degraded_Reef/April_2024_Pavonas/20240306_015800.WAV\n",
      "Extracting features from /home/s.kamboj.400/unzipped-coral/Degraded_Reef/April_2024_Pavonas/20240306_015900.WAV\n",
      "Extracting features from /home/s.kamboj.400/unzipped-coral/Degraded_Reef/April_2024_Pavonas/20240306_020000.WAV\n",
      "Extracting features from /home/s.kamboj.400/unzipped-coral/Degraded_Reef/April_2024_Pavonas/20240306_020100.WAV\n",
      "Extracting features from /home/s.kamboj.400/unzipped-coral/Degraded_Reef/April_2024_Pavonas/20240306_020200.WAV\n",
      "Extracting features from /home/s.kamboj.400/unzipped-coral/Degraded_Reef/April_2024_Pavonas/20240306_020300.WAV\n",
      "Extracting features from /home/s.kamboj.400/unzipped-coral/Degraded_Reef/April_2024_Pavonas/20240306_020400.WAV\n",
      "Extracting features from /home/s.kamboj.400/unzipped-coral/Degraded_Reef/April_2024_Pavonas/20240306_020500.WAV\n",
      "Extracting features from /home/s.kamboj.400/unzipped-coral/Degraded_Reef/April_2024_Pavonas/20240306_020600.WAV\n",
      "Extracting features from /home/s.kamboj.400/unzipped-coral/Degraded_Reef/April_2024_Pavonas/20240306_020700.WAV\n",
      "Extracting features from /home/s.kamboj.400/unzipped-coral/Degraded_Reef/April_2024_Pavonas/20240306_020800.WAV\n",
      "Extracting features from /home/s.kamboj.400/unzipped-coral/Degraded_Reef/April_2024_Pavonas/20240306_020900.WAV\n",
      "Extracting features from /home/s.kamboj.400/unzipped-coral/Degraded_Reef/April_2024_Pavonas/20240306_021000.WAV\n",
      "Extracting features from /home/s.kamboj.400/unzipped-coral/Degraded_Reef/April_2024_Pavonas/20240306_021100.WAV\n",
      "Extracting features from /home/s.kamboj.400/unzipped-coral/Degraded_Reef/April_2024_Pavonas/20240306_021200.WAV\n",
      "Extracting features from /home/s.kamboj.400/unzipped-coral/Degraded_Reef/April_2024_Pavonas/20240306_021300.WAV\n",
      "Extracting features from /home/s.kamboj.400/unzipped-coral/Degraded_Reef/April_2024_Pavonas/20240306_021400.WAV\n",
      "Extracting features from /home/s.kamboj.400/unzipped-coral/Degraded_Reef/April_2024_Pavonas/20240306_021500.WAV\n",
      "Extracting features from /home/s.kamboj.400/unzipped-coral/Degraded_Reef/April_2024_Pavonas/20240306_021600.WAV\n",
      "Extracting features from /home/s.kamboj.400/unzipped-coral/Degraded_Reef/April_2024_Pavonas/20240306_021700.WAV\n",
      "Extracting features from /home/s.kamboj.400/unzipped-coral/Degraded_Reef/April_2024_Pavonas/20240306_021800.WAV\n",
      "Extracting features from /home/s.kamboj.400/unzipped-coral/Degraded_Reef/April_2024_Pavonas/20240306_021900.WAV\n",
      "Extracting features from /home/s.kamboj.400/unzipped-coral/Degraded_Reef/April_2024_Pavonas/20240306_022000.WAV\n",
      "Extracting features from /home/s.kamboj.400/unzipped-coral/Degraded_Reef/April_2024_Pavonas/20240306_022100.WAV\n",
      "Extracting features from /home/s.kamboj.400/unzipped-coral/Degraded_Reef/April_2024_Pavonas/20240306_022200.WAV\n",
      "Extracting features from /home/s.kamboj.400/unzipped-coral/Degraded_Reef/April_2024_Pavonas/20240306_022300.WAV\n",
      "Extracting features from /home/s.kamboj.400/unzipped-coral/Degraded_Reef/April_2024_Pavonas/20240306_022400.WAV\n",
      "Extracting features from /home/s.kamboj.400/unzipped-coral/Degraded_Reef/April_2024_Pavonas/20240306_022500.WAV\n",
      "Extracting features from /home/s.kamboj.400/unzipped-coral/Degraded_Reef/April_2024_Pavonas/20240306_022600.WAV\n",
      "Extracting features from /home/s.kamboj.400/unzipped-coral/Degraded_Reef/April_2024_Pavonas/20240306_022700.WAV\n",
      "Extracting features from /home/s.kamboj.400/unzipped-coral/Degraded_Reef/April_2024_Pavonas/20240306_022800.WAV\n",
      "Extracting features from /home/s.kamboj.400/unzipped-coral/Degraded_Reef/April_2024_Pavonas/20240306_022900.WAV\n",
      "Extracting features from /home/s.kamboj.400/unzipped-coral/Degraded_Reef/April_2024_Pavonas/20240306_023000.WAV\n",
      "Extracting features from /home/s.kamboj.400/unzipped-coral/Degraded_Reef/April_2024_Pavonas/20240306_023100.WAV\n",
      "Extracting features from /home/s.kamboj.400/unzipped-coral/Degraded_Reef/April_2024_Pavonas/20240306_023200.WAV\n",
      "Extracting features from /home/s.kamboj.400/unzipped-coral/Degraded_Reef/April_2024_Pavonas/20240306_023300.WAV\n",
      "Extracting features from /home/s.kamboj.400/unzipped-coral/Degraded_Reef/April_2024_Pavonas/20240306_023400.WAV\n",
      "Extracting features from /home/s.kamboj.400/unzipped-coral/Degraded_Reef/April_2024_Pavonas/20240306_023500.WAV\n",
      "Extracting features from /home/s.kamboj.400/unzipped-coral/Degraded_Reef/April_2024_Pavonas/20240306_023600.WAV\n",
      "Extracting features from /home/s.kamboj.400/unzipped-coral/Degraded_Reef/April_2024_Pavonas/20240306_023700.WAV\n",
      "Extracting features from /home/s.kamboj.400/unzipped-coral/Degraded_Reef/April_2024_Pavonas/20240306_023800.WAV\n",
      "Extracting features from /home/s.kamboj.400/unzipped-coral/Degraded_Reef/April_2024_Pavonas/20240306_023900.WAV\n",
      "Extracting features from /home/s.kamboj.400/unzipped-coral/Degraded_Reef/April_2024_Pavonas/20240306_024000.WAV\n"
     ]
    },
    {
     "ename": "KeyboardInterrupt",
     "evalue": "",
     "output_type": "error",
     "traceback": [
      "\u001b[31m---------------------------------------------------------------------------\u001b[39m",
      "\u001b[31mKeyboardInterrupt\u001b[39m                         Traceback (most recent call last)",
      "\u001b[36mCell\u001b[39m\u001b[36m \u001b[39m\u001b[32mIn[27]\u001b[39m\u001b[32m, line 3\u001b[39m\n\u001b[32m      1\u001b[39m coralreef_extractor = extractors.CoralReef()\n\u001b[32m----> \u001b[39m\u001b[32m3\u001b[39m coral_ads = \u001b[43mcoralreef_extractor\u001b[49m\u001b[43m(\u001b[49m\u001b[33;43m\"\u001b[39;49m\u001b[33;43m/home/s.kamboj.400/unzipped-coral\u001b[39;49m\u001b[33;43m\"\u001b[39;49m\u001b[43m)\u001b[49m\n\u001b[32m      4\u001b[39m \u001b[38;5;66;03m# per_ads = birdset_extactor(\"PER\")\u001b[39;00m\n\u001b[32m      6\u001b[39m coral_ads\n",
      "\u001b[36mFile \u001b[39m\u001b[32m<string>:15\u001b[39m, in \u001b[36m__call__\u001b[39m\u001b[34m(self, audio_path)\u001b[39m\n",
      "\u001b[36mFile \u001b[39m\u001b[32m<string>:23\u001b[39m, in \u001b[36mextract_features\u001b[39m\u001b[34m(wav, config, label)\u001b[39m\n",
      "\u001b[36mFile \u001b[39m\u001b[32m~/pyha-analyzer-2.0/.venv/lib/python3.11/site-packages/librosa/feature/spectral.py:883\u001b[39m, in \u001b[36mrms\u001b[39m\u001b[34m(y, S, frame_length, hop_length, center, pad_mode, dtype)\u001b[39m\n\u001b[32m    880\u001b[39m     x = util.frame(y, frame_length=frame_length, hop_length=hop_length)\n\u001b[32m    882\u001b[39m     \u001b[38;5;66;03m# Calculate power\u001b[39;00m\n\u001b[32m--> \u001b[39m\u001b[32m883\u001b[39m     power = np.mean(\u001b[43mutil\u001b[49m\u001b[43m.\u001b[49m\u001b[43mabs2\u001b[49m\u001b[43m(\u001b[49m\u001b[43mx\u001b[49m\u001b[43m,\u001b[49m\u001b[43m \u001b[49m\u001b[43mdtype\u001b[49m\u001b[43m=\u001b[49m\u001b[43mdtype\u001b[49m\u001b[43m)\u001b[49m, axis=-\u001b[32m2\u001b[39m, keepdims=\u001b[38;5;28;01mTrue\u001b[39;00m)\n\u001b[32m    884\u001b[39m \u001b[38;5;28;01melif\u001b[39;00m S \u001b[38;5;129;01mis\u001b[39;00m \u001b[38;5;129;01mnot\u001b[39;00m \u001b[38;5;28;01mNone\u001b[39;00m:\n\u001b[32m    885\u001b[39m     \u001b[38;5;66;03m# Check the frame length\u001b[39;00m\n\u001b[32m    886\u001b[39m     \u001b[38;5;28;01mif\u001b[39;00m S.shape[-\u001b[32m2\u001b[39m] != frame_length // \u001b[32m2\u001b[39m + \u001b[32m1\u001b[39m:\n",
      "\u001b[36mFile \u001b[39m\u001b[32m~/pyha-analyzer-2.0/.venv/lib/python3.11/site-packages/librosa/util/utils.py:2501\u001b[39m, in \u001b[36mabs2\u001b[39m\u001b[34m(x, dtype)\u001b[39m\n\u001b[32m   2498\u001b[39m         \u001b[38;5;28;01mreturn\u001b[39;00m y.astype(dtype)  \u001b[38;5;66;03m# type: ignore\u001b[39;00m\n\u001b[32m   2499\u001b[39m \u001b[38;5;28;01melse\u001b[39;00m:\n\u001b[32m   2500\u001b[39m     \u001b[38;5;66;03m# suppress type check, mypy doesn't know this is real\u001b[39;00m\n\u001b[32m-> \u001b[39m\u001b[32m2501\u001b[39m     \u001b[38;5;28;01mreturn\u001b[39;00m \u001b[43mnp\u001b[49m\u001b[43m.\u001b[49m\u001b[43mpower\u001b[49m\u001b[43m(\u001b[49m\u001b[43mx\u001b[49m\u001b[43m,\u001b[49m\u001b[43m \u001b[49m\u001b[32;43m2\u001b[39;49m\u001b[43m,\u001b[49m\u001b[43m \u001b[49m\u001b[43mdtype\u001b[49m\u001b[43m=\u001b[49m\u001b[43mdtype\u001b[49m\u001b[43m)\u001b[49m\n",
      "\u001b[31mKeyboardInterrupt\u001b[39m: "
     ]
    }
   ],
   "source": [
    "coralreef_extractor = extractors.CoralReef()\n",
    "\n",
    "coral_ads = coralreef_extractor(\"/home/s.kamboj.400/unzipped-coral\")\n",
    "# per_ads = birdset_extactor(\"PER\")\n",
    "\n",
    "coral_ads"
   ]
  },
  {
   "cell_type": "code",
   "execution_count": 8,
   "id": "e4b76132",
   "metadata": {},
   "outputs": [
    {
     "data": {
      "text/plain": [
       "Sequence(feature=ClassLabel(names=['Degraded_Reef', 'Non_Degraded_Reef'], id=None), length=-1, id=None)"
      ]
     },
     "execution_count": 8,
     "metadata": {},
     "output_type": "execute_result"
    }
   ],
   "source": [
    "coral_ads[\"train\"].features[\"labels\"]"
   ]
  },
  {
   "cell_type": "code",
   "execution_count": 9,
   "id": "f1f373e7",
   "metadata": {},
   "outputs": [
    {
     "data": {
      "text/plain": [
       "{'sample_rate': 48000,\n",
       " 'device_id': '2453AC0263FB804F',\n",
       " 'duration': 60.0,\n",
       " 'date': datetime.date(2024, 7, 16),\n",
       " 'time': datetime.time(4, 12),\n",
       " 'labels': [0, 1],\n",
       " 'filepath': '/home/s.kamboj.400/unzipped-coral/Non_Degraded_Reef/July_2024/20240716_041200.WAV',\n",
       " 'audio': '/home/s.kamboj.400/unzipped-coral/Non_Degraded_Reef/July_2024/20240716_041200.WAV',\n",
       " 'audio_in': {'array': '/home/s.kamboj.400/unzipped-coral/Non_Degraded_Reef/July_2024/20240716_041200.WAV',\n",
       "  'sampling_rate': 48000},\n",
       " 'max_freq': 24000.0,\n",
       " 'min_freq': 0.0,\n",
       " 'mean_freq': 12840.03391277726,\n",
       " 'peak_freq': 562.5,\n",
       " 'variance_freq': 7647.388445669873,\n",
       " 'num_peaks': 55,\n",
       " 'spectral_flatness': 0.2607593238353729,\n",
       " 'rms_energy': 0.04303060472011566}"
      ]
     },
     "execution_count": 9,
     "metadata": {},
     "output_type": "execute_result"
    }
   ],
   "source": [
    "coral_ads[\"train\"][0]"
   ]
  },
  {
   "cell_type": "code",
   "execution_count": null,
   "id": "1dd5b329",
   "metadata": {},
   "outputs": [
    {
     "data": {
      "text/plain": [
       "(array([ 0.19588947,  0.27712345,  0.20782189, ..., -0.04795212,\n",
       "        -0.12272076, -0.17080563], shape=(220500,), dtype=float32),\n",
       " 22050)"
      ]
     },
     "execution_count": 19,
     "metadata": {},
     "output_type": "execute_result"
    }
   ],
   "source": [
    "# import librosa\n",
    "\n",
    "# librosa.load(\"data_birdset/background_noise/fff12db0-9cbe-4155-ac4a-b0b88d84c1d7.wav\")"
   ]
  },
  {
   "cell_type": "markdown",
   "id": "fa44f245",
   "metadata": {},
   "source": [
    "# Online Preprocessing example\n",
    "\n",
    "Suppose we just wanted spectrograms with no audio preprocessing"
   ]
  },
  {
   "cell_type": "code",
   "execution_count": null,
   "id": "799ff026",
   "metadata": {},
   "outputs": [
    {
     "data": {
      "text/plain": [
       "{'bytes': None,\n",
       " 'path': '/home/s.perry.543/.cache/huggingface/datasets/downloads/extracted/e7a5318118cabfab47a509edeb627860a60537535aeea20a19fced4c110d579e/HSN_001_20150708_061805_000_005.ogg'}"
      ]
     },
     "execution_count": 20,
     "metadata": {},
     "output_type": "execute_result"
    }
   ],
   "source": [
    "# hsn_ads[\"test\"][0][\"audio\"]"
   ]
  },
  {
   "cell_type": "code",
   "execution_count": null,
   "id": "bfe2c636",
   "metadata": {},
   "outputs": [
    {
     "data": {
      "text/plain": [
       "{'audio': {'bytes': None,\n",
       "  'path': '/home/s.perry.543/.cache/huggingface/datasets/downloads/extracted/e8d87da059276237fe3a09f216dfe50ac2186afa53bf9c3b9e14c93979cbeba4/XC123854.ogg'},\n",
       " 'filepath': '/home/s.perry.543/.cache/huggingface/datasets/downloads/extracted/e8d87da059276237fe3a09f216dfe50ac2186afa53bf9c3b9e14c93979cbeba4/XC123854.ogg',\n",
       " 'start_time': None,\n",
       " 'end_time': None,\n",
       " 'low_freq': None,\n",
       " 'high_freq': None,\n",
       " 'ebird_code': 16,\n",
       " 'ebird_code_multilabel': [16],\n",
       " 'ebird_code_secondary': [],\n",
       " 'call_type': 'call, phrases',\n",
       " 'sex': None,\n",
       " 'lat': 31.34,\n",
       " 'long': -109.273,\n",
       " 'length': 58,\n",
       " 'microphone': 'focal',\n",
       " 'license': '//creativecommons.org/licenses/by-nc-sa/3.0/',\n",
       " 'source': 'xenocanto',\n",
       " 'local_time': '08:54',\n",
       " 'detected_events': [[31.44, 33.792], [35.952, 36.672]],\n",
       " 'event_cluster': [-1, -1],\n",
       " 'peaks': [4.41303361102967,\n",
       "  5.9407844283959825,\n",
       "  7.327410170258567,\n",
       "  10.157911684613236,\n",
       "  13.236382081634444,\n",
       "  19.7893855875755,\n",
       "  25.044450899102944,\n",
       "  26.92607690579703,\n",
       "  28.700734105261425,\n",
       "  30.12526611740435,\n",
       "  32.41448609216644,\n",
       "  34.12379950667108,\n",
       "  36.14776933952094,\n",
       "  41.617553515925735,\n",
       "  47.850713100746184,\n",
       "  53.364122300490926,\n",
       "  57.846780948770885],\n",
       " 'quality': 'A',\n",
       " 'recordist': 'Richard E. Webster',\n",
       " 'genus': 5,\n",
       " 'species_group': 7,\n",
       " 'order': 2,\n",
       " 'genus_multilabel': [5],\n",
       " 'species_group_multilabel': [7],\n",
       " 'order_multilabel': [2],\n",
       " 'audio_in': {'bytes': None,\n",
       "  'path': '/home/s.perry.543/.cache/huggingface/datasets/downloads/extracted/e8d87da059276237fe3a09f216dfe50ac2186afa53bf9c3b9e14c93979cbeba4/XC123854.ogg'},\n",
       " 'labels': [0, 0, 0, 0, 0, 0, 0, 0, 0, 0, 0, 0, 0, 0, 0, 0, 1, 0, 0, 0, 0]}"
      ]
     },
     "execution_count": 21,
     "metadata": {},
     "output_type": "execute_result"
    }
   ],
   "source": [
    "# hsn_ads[\"train\"][0]"
   ]
  },
  {
   "cell_type": "code",
   "execution_count": null,
   "id": "51d56f6a",
   "metadata": {},
   "outputs": [
    {
     "data": {
      "text/plain": [
       "{'audio': {'bytes': None,\n",
       "  'path': '/home/s.perry.543/.cache/huggingface/datasets/downloads/extracted/e8d87da059276237fe3a09f216dfe50ac2186afa53bf9c3b9e14c93979cbeba4/XC123854.ogg'},\n",
       " 'filepath': '/home/s.perry.543/.cache/huggingface/datasets/downloads/extracted/e8d87da059276237fe3a09f216dfe50ac2186afa53bf9c3b9e14c93979cbeba4/XC123854.ogg',\n",
       " 'start_time': None,\n",
       " 'end_time': None,\n",
       " 'low_freq': None,\n",
       " 'high_freq': None,\n",
       " 'ebird_code': 16,\n",
       " 'ebird_code_multilabel': [16],\n",
       " 'ebird_code_secondary': [],\n",
       " 'call_type': 'call, phrases',\n",
       " 'sex': None,\n",
       " 'lat': 31.34,\n",
       " 'long': -109.273,\n",
       " 'length': 58,\n",
       " 'microphone': 'focal',\n",
       " 'license': '//creativecommons.org/licenses/by-nc-sa/3.0/',\n",
       " 'source': 'xenocanto',\n",
       " 'local_time': '08:54',\n",
       " 'detected_events': [[31.44, 33.792], [35.952, 36.672]],\n",
       " 'event_cluster': [-1, -1],\n",
       " 'peaks': [4.41303361102967,\n",
       "  5.9407844283959825,\n",
       "  7.327410170258567,\n",
       "  10.157911684613236,\n",
       "  13.236382081634444,\n",
       "  19.7893855875755,\n",
       "  25.044450899102944,\n",
       "  26.92607690579703,\n",
       "  28.700734105261425,\n",
       "  30.12526611740435,\n",
       "  32.41448609216644,\n",
       "  34.12379950667108,\n",
       "  36.14776933952094,\n",
       "  41.617553515925735,\n",
       "  47.850713100746184,\n",
       "  53.364122300490926,\n",
       "  57.846780948770885],\n",
       " 'quality': 'A',\n",
       " 'recordist': 'Richard E. Webster',\n",
       " 'genus': 5,\n",
       " 'species_group': 7,\n",
       " 'order': 2,\n",
       " 'genus_multilabel': [5],\n",
       " 'species_group_multilabel': [7],\n",
       " 'order_multilabel': [2],\n",
       " 'audio_in': {'bytes': None,\n",
       "  'path': '/home/s.perry.543/.cache/huggingface/datasets/downloads/extracted/e8d87da059276237fe3a09f216dfe50ac2186afa53bf9c3b9e14c93979cbeba4/XC123854.ogg'},\n",
       " 'labels': [0, 0, 0, 0, 0, 0, 0, 0, 0, 0, 0, 0, 0, 0, 0, 0, 1, 0, 0, 0, 0]}"
      ]
     },
     "execution_count": 22,
     "metadata": {},
     "output_type": "execute_result"
    }
   ],
   "source": [
    "# hsn_ads[\"train\"][0]"
   ]
  },
  {
   "cell_type": "code",
   "execution_count": 15,
   "id": "835d7239",
   "metadata": {},
   "outputs": [
    {
     "data": {
      "text/plain": [
       "np.float32(0.13795403)"
      ]
     },
     "execution_count": 15,
     "metadata": {},
     "output_type": "execute_result"
    }
   ],
   "source": [
    "from pyha_analyzer.preprocessors import MelSpectrogramPreprocessors\n",
    "\n",
    "# TODO: allow for normalization system\n",
    "\n",
    "# preprocessor acts as a function for processing\n",
    "# class allows us to configure parameters and whatnot\n",
    "preprocessor = MelSpectrogramPreprocessors(duration=5, class_list=coral_ads[\"train\"].features[\"labels\"].feature.names)\n",
    "\n",
    "# Set split spefific transforms here\n",
    "# If preprocessor had data augmentations, probably want to disable for training\n",
    "coral_ads[\"train\"].set_transform(preprocessor)\n",
    "coral_ads[\"valid\"].set_transform(preprocessor)\n",
    "coral_ads[\"test\"].set_transform(preprocessor)\n",
    "coral_ads[\"train\"][[0, 1]][\"audio\"][0].mean()"
   ]
  },
  {
   "cell_type": "code",
   "execution_count": null,
   "id": "98201ece",
   "metadata": {},
   "outputs": [
    {
     "data": {
      "text/plain": [
       "{'audio': [array([[[0., 0., 0., ..., 0., 0., 0.],\n",
       "          [0., 0., 0., ..., 0., 0., 0.],\n",
       "          [0., 0., 0., ..., 0., 0., 0.],\n",
       "          ...,\n",
       "          [0., 0., 0., ..., 0., 0., 0.],\n",
       "          [0., 0., 0., ..., 0., 0., 0.],\n",
       "          [0., 0., 0., ..., 0., 0., 0.]]],\n",
       "        shape=(1, 256, 431), dtype=float32),\n",
       "  array([[[0., 0., 0., ..., 0., 0., 0.],\n",
       "          [0., 0., 0., ..., 0., 0., 0.],\n",
       "          [0., 0., 0., ..., 0., 0., 0.],\n",
       "          ...,\n",
       "          [0., 0., 0., ..., 0., 0., 0.],\n",
       "          [0., 0., 0., ..., 0., 0., 0.],\n",
       "          [0., 0., 0., ..., 0., 0., 0.]]],\n",
       "        shape=(1, 256, 431), dtype=float32)],\n",
       " 'filepath': ['/home/s.perry.543/.cache/huggingface/datasets/downloads/extracted/e8d87da059276237fe3a09f216dfe50ac2186afa53bf9c3b9e14c93979cbeba4/XC123854.ogg',\n",
       "  '/home/s.perry.543/.cache/huggingface/datasets/downloads/extracted/053832b39de8ba5377824eb2d8364a1e31d9355ede4974f3741a1daa9822e8ab/XC700958.ogg'],\n",
       " 'start_time': [None, None],\n",
       " 'end_time': [None, None],\n",
       " 'low_freq': [None, None],\n",
       " 'high_freq': [None, None],\n",
       " 'ebird_code': [16, 5],\n",
       " 'ebird_code_multilabel': [[16], [5]],\n",
       " 'ebird_code_secondary': [[], []],\n",
       " 'call_type': ['call, phrases', 'song'],\n",
       " 'sex': [None, 'male'],\n",
       " 'lat': [31.34, 42.9683],\n",
       " 'long': [-109.273, -121.5806],\n",
       " 'length': [58, 36],\n",
       " 'microphone': ['focal', 'focal'],\n",
       " 'license': ['//creativecommons.org/licenses/by-nc-sa/3.0/',\n",
       "  '//creativecommons.org/licenses/by-nc-sa/4.0/'],\n",
       " 'source': ['xenocanto', 'xenocanto'],\n",
       " 'local_time': ['08:54', '14:36'],\n",
       " 'detected_events': [[[31.44, 33.792], [35.952, 36.672]], []],\n",
       " 'event_cluster': [[-1, -1], []],\n",
       " 'peaks': [[4.41303361102967,\n",
       "   5.9407844283959825,\n",
       "   7.327410170258567,\n",
       "   10.157911684613236,\n",
       "   13.236382081634444,\n",
       "   19.7893855875755,\n",
       "   25.044450899102944,\n",
       "   26.92607690579703,\n",
       "   28.700734105261425,\n",
       "   30.12526611740435,\n",
       "   32.41448609216644,\n",
       "   34.12379950667108,\n",
       "   36.14776933952094,\n",
       "   41.617553515925735,\n",
       "   47.850713100746184,\n",
       "   53.364122300490926,\n",
       "   57.846780948770885],\n",
       "  [5.567067338706524, 35.03024919710707]],\n",
       " 'quality': ['A', 'B'],\n",
       " 'recordist': ['Richard E. Webster', 'Thomas Magarian'],\n",
       " 'genus': [5, 6],\n",
       " 'species_group': [7, 0],\n",
       " 'order': [2, 2],\n",
       " 'genus_multilabel': [[5], [6]],\n",
       " 'species_group_multilabel': [[7], [0]],\n",
       " 'order_multilabel': [[2], [2]],\n",
       " 'audio_in': [array([[[0., 0., 0., ..., 0., 0., 0.],\n",
       "          [0., 0., 0., ..., 0., 0., 0.],\n",
       "          [0., 0., 0., ..., 0., 0., 0.],\n",
       "          ...,\n",
       "          [0., 0., 0., ..., 0., 0., 0.],\n",
       "          [0., 0., 0., ..., 0., 0., 0.],\n",
       "          [0., 0., 0., ..., 0., 0., 0.]]],\n",
       "        shape=(1, 256, 431), dtype=float32),\n",
       "  array([[[0., 0., 0., ..., 0., 0., 0.],\n",
       "          [0., 0., 0., ..., 0., 0., 0.],\n",
       "          [0., 0., 0., ..., 0., 0., 0.],\n",
       "          ...,\n",
       "          [0., 0., 0., ..., 0., 0., 0.],\n",
       "          [0., 0., 0., ..., 0., 0., 0.],\n",
       "          [0., 0., 0., ..., 0., 0., 0.]]],\n",
       "        shape=(1, 256, 431), dtype=float32)],\n",
       " 'labels': array([[0., 0., 0., 0., 0., 0., 0., 0., 0., 0., 0., 0., 0., 0., 0., 0.,\n",
       "         1., 0., 0., 0., 0.],\n",
       "        [0., 0., 0., 0., 0., 1., 0., 0., 0., 0., 0., 0., 0., 0., 0., 0.,\n",
       "         0., 0., 0., 0., 0.]], dtype=float32)}"
      ]
     },
     "execution_count": 24,
     "metadata": {},
     "output_type": "execute_result"
    }
   ],
   "source": [
    "# hsn_ads[\"train\"][[0, 1]]"
   ]
  },
  {
   "cell_type": "markdown",
   "id": "505d27af",
   "metadata": {},
   "source": [
    "# Model Training\n",
    "\n",
    "As a demo, implementing a model here because we haven't fleshed out the AudioDataset api yet\n",
    "\n",
    "In the future this exists in `/pyha_analyzer/models/`"
   ]
  },
  {
   "cell_type": "code",
   "execution_count": 25,
   "id": "e83ab7bb",
   "metadata": {},
   "outputs": [],
   "source": [
    "# from pyha_analyzer.models.demo_CNN import ResnetConfig, ResnetModel\n",
    "\n",
    "# # Going to make notes on anything that should be handled not here\n",
    "# # This is one of these things, this should be handled by potentially pyha_trainer\n",
    "# resnet50d_config = ResnetConfig(\n",
    "#     num_classes=len(hsn_ads[\"train\"].features[\"ebird_code\"].names), input_channels=1\n",
    "# )\n",
    "# model = ResnetModel(resnet50d_config)\n",
    "from pyha_analyzer.models import EfficentNet\n",
    "#model = EfficentNet(num_classes=len(coral_ads[\"train\"].features[\"ebird_code\"].names))\n",
    "model = EfficentNet(num_classes=2)"
   ]
  },
  {
   "cell_type": "code",
   "execution_count": 26,
   "id": "1424f590",
   "metadata": {},
   "outputs": [
    {
     "name": "stderr",
     "output_type": "stream",
     "text": [
      "\u001b[34m\u001b[1mwandb\u001b[0m: \u001b[33mWARNING\u001b[0m Calling wandb.login() after wandb.init() has no effect.\n",
      "\u001b[34m\u001b[1mwandb\u001b[0m: \u001b[32m\u001b[41mERROR\u001b[0m The nbformat package was not found. It is required to save notebook history.\n"
     ]
    },
    {
     "data": {
      "text/html": [],
      "text/plain": [
       "<IPython.core.display.HTML object>"
      ]
     },
     "metadata": {},
     "output_type": "display_data"
    },
    {
     "data": {
      "text/html": [
       "<br>    <style><br>        .wandb-row {<br>            display: flex;<br>            flex-direction: row;<br>            flex-wrap: wrap;<br>            justify-content: flex-start;<br>            width: 100%;<br>        }<br>        .wandb-col {<br>            display: flex;<br>            flex-direction: column;<br>            flex-basis: 100%;<br>            flex: 1;<br>            padding: 10px;<br>        }<br>    </style><br><div class=\"wandb-row\"><div class=\"wandb-col\"><h3>Run history:</h3><br/><table class=\"wandb\"><tr><td>train/epoch</td><td>▁</td></tr><tr><td>train/global_step</td><td>▁</td></tr></table><br/></div><div class=\"wandb-col\"><h3>Run summary:</h3><br/><table class=\"wandb\"><tr><td>total_flos</td><td>0</td></tr><tr><td>train/epoch</td><td>1</td></tr><tr><td>train/global_step</td><td>1</td></tr><tr><td>train_loss</td><td>0.68627</td></tr><tr><td>train_runtime</td><td>5.0105</td></tr><tr><td>train_samples_per_second</td><td>3.792</td></tr><tr><td>train_steps_per_second</td><td>0.2</td></tr></table><br/></div></div>"
      ],
      "text/plain": [
       "<IPython.core.display.HTML object>"
      ]
     },
     "metadata": {},
     "output_type": "display_data"
    },
    {
     "data": {
      "text/html": [
       " View run <strong style=\"color:#cdcd00\">working_dir</strong> at: <a href='https://wandb.ai/acoustic-species-identification/pa2.0_test/runs/qxmthjma' target=\"_blank\">https://wandb.ai/acoustic-species-identification/pa2.0_test/runs/qxmthjma</a><br> View project at: <a href='https://wandb.ai/acoustic-species-identification/pa2.0_test' target=\"_blank\">https://wandb.ai/acoustic-species-identification/pa2.0_test</a><br>Synced 5 W&B file(s), 0 media file(s), 0 artifact file(s) and 0 other file(s)"
      ],
      "text/plain": [
       "<IPython.core.display.HTML object>"
      ]
     },
     "metadata": {},
     "output_type": "display_data"
    },
    {
     "data": {
      "text/html": [
       "Find logs at: <code>./wandb/run-20250630_103414-qxmthjma/logs</code>"
      ],
      "text/plain": [
       "<IPython.core.display.HTML object>"
      ]
     },
     "metadata": {},
     "output_type": "display_data"
    },
    {
     "data": {
      "text/html": [
       "Changes to your `wandb` environment variables will be ignored because your `wandb` session has already started. For more information on how to modify your settings with `wandb.init()` arguments, please refer to <a href='https://wandb.me/wandb-init' target=\"_blank\">the W&B docs</a>."
      ],
      "text/plain": [
       "<IPython.core.display.HTML object>"
      ]
     },
     "metadata": {},
     "output_type": "display_data"
    },
    {
     "data": {
      "text/html": [
       "Tracking run with wandb version 0.19.10"
      ],
      "text/plain": [
       "<IPython.core.display.HTML object>"
      ]
     },
     "metadata": {},
     "output_type": "display_data"
    },
    {
     "data": {
      "text/html": [
       "Run data is saved locally in <code>/home/s.kamboj.400/pyha-analyzer-2.0/wandb/run-20250630_103455-zpjgnwyw</code>"
      ],
      "text/plain": [
       "<IPython.core.display.HTML object>"
      ]
     },
     "metadata": {},
     "output_type": "display_data"
    },
    {
     "data": {
      "text/html": [
       "Syncing run <strong><a href='https://wandb.ai/acoustic-species-identification/pa2.0_test/runs/zpjgnwyw' target=\"_blank\">working_dir</a></strong> to <a href='https://wandb.ai/acoustic-species-identification/pa2.0_test' target=\"_blank\">Weights & Biases</a> (<a href='https://wandb.me/developer-guide' target=\"_blank\">docs</a>)<br>"
      ],
      "text/plain": [
       "<IPython.core.display.HTML object>"
      ]
     },
     "metadata": {},
     "output_type": "display_data"
    },
    {
     "data": {
      "text/html": [
       " View project at <a href='https://wandb.ai/acoustic-species-identification/pa2.0_test' target=\"_blank\">https://wandb.ai/acoustic-species-identification/pa2.0_test</a>"
      ],
      "text/plain": [
       "<IPython.core.display.HTML object>"
      ]
     },
     "metadata": {},
     "output_type": "display_data"
    },
    {
     "data": {
      "text/html": [
       " View run at <a href='https://wandb.ai/acoustic-species-identification/pa2.0_test/runs/zpjgnwyw' target=\"_blank\">https://wandb.ai/acoustic-species-identification/pa2.0_test/runs/zpjgnwyw</a>"
      ],
      "text/plain": [
       "<IPython.core.display.HTML object>"
      ]
     },
     "metadata": {},
     "output_type": "display_data"
    },
    {
     "data": {
      "text/html": [
       "\n",
       "    <div>\n",
       "      \n",
       "      <progress value='1' max='1' style='width:300px; height:20px; vertical-align: middle;'></progress>\n",
       "      [1/1 00:00, Epoch 1/1]\n",
       "    </div>\n",
       "    <table border=\"1\" class=\"dataframe\">\n",
       "  <thead>\n",
       " <tr style=\"text-align: left;\">\n",
       "      <th>Step</th>\n",
       "      <th>Training Loss</th>\n",
       "      <th>Validation Loss</th>\n",
       "    </tr>\n",
       "  </thead>\n",
       "  <tbody>\n",
       "  </tbody>\n",
       "</table><p>"
      ],
      "text/plain": [
       "<IPython.core.display.HTML object>"
      ]
     },
     "metadata": {},
     "output_type": "display_data"
    },
    {
     "data": {
      "text/plain": [
       "TrainOutput(global_step=1, training_loss=0.6752867102622986, metrics={'train_runtime': 2.8846, 'train_samples_per_second': 6.587, 'train_steps_per_second': 0.347, 'total_flos': 0.0, 'train_loss': 0.6752867102622986, 'epoch': 1.0})"
      ]
     },
     "execution_count": 26,
     "metadata": {},
     "output_type": "execute_result"
    }
   ],
   "source": [
    "args = PyhaTrainingArguments(\n",
    "    working_dir=\"working_dir\"\n",
    ")\n",
    "args.num_train_epochs = 1\n",
    "args.eval_steps = 20\n",
    "\n",
    "\n",
    "trainer = PyhaTrainer(\n",
    "    model=model,\n",
    "    dataset=coral_ads,\n",
    "    training_args=args\n",
    ")\n",
    "trainer.train()"
   ]
  },
  {
   "cell_type": "code",
   "execution_count": 28,
   "id": "dc9c2aaa",
   "metadata": {},
   "outputs": [
    {
     "name": "stdout",
     "output_type": "stream",
     "text": [
      "Error in callback <bound method _WandbInit._pre_run_cell_hook of <wandb.sdk.wandb_init._WandbInit object at 0x7f0cad9d1e50>> (for pre_run_cell), with arguments args (<ExecutionInfo object at 7f0cad963f10, raw_cell=\"trainer.evaluate(eval_dataset=coral_ads[\"test\"], m..\" store_history=True silent=False shell_futures=True cell_id=vscode-notebook-cell://ssh-remote%2Bkastner-ml/home/s.kamboj.400/pyha-analyzer-2.0/train_demo.ipynb#X22sdnNjb2RlLXJlbW90ZQ%3D%3D>,),kwargs {}:\n"
     ]
    },
    {
     "ename": "BrokenPipeError",
     "evalue": "[Errno 32] Broken pipe",
     "output_type": "error",
     "traceback": [
      "\u001b[31m---------------------------------------------------------------------------\u001b[39m",
      "\u001b[31mBrokenPipeError\u001b[39m                           Traceback (most recent call last)",
      "\u001b[36mFile \u001b[39m\u001b[32m~/pyha-analyzer-2.0/.venv/lib/python3.11/site-packages/wandb/sdk/wandb_init.py:603\u001b[39m, in \u001b[36m_WandbInit._pre_run_cell_hook\u001b[39m\u001b[34m(self, *args, **kwargs)\u001b[39m\n\u001b[32m    601\u001b[39m \u001b[38;5;28;01mif\u001b[39;00m \u001b[38;5;28mself\u001b[39m.backend.interface \u001b[38;5;129;01mis\u001b[39;00m \u001b[38;5;129;01mnot\u001b[39;00m \u001b[38;5;28;01mNone\u001b[39;00m:\n\u001b[32m    602\u001b[39m     \u001b[38;5;28mself\u001b[39m._logger.info(\u001b[33m\"\u001b[39m\u001b[33mpausing backend\u001b[39m\u001b[33m\"\u001b[39m)\n\u001b[32m--> \u001b[39m\u001b[32m603\u001b[39m     \u001b[38;5;28;43mself\u001b[39;49m\u001b[43m.\u001b[49m\u001b[43mbackend\u001b[49m\u001b[43m.\u001b[49m\u001b[43minterface\u001b[49m\u001b[43m.\u001b[49m\u001b[43mpublish_pause\u001b[49m\u001b[43m(\u001b[49m\u001b[43m)\u001b[49m\n",
      "\u001b[36mFile \u001b[39m\u001b[32m~/pyha-analyzer-2.0/.venv/lib/python3.11/site-packages/wandb/sdk/interface/interface.py:771\u001b[39m, in \u001b[36mInterfaceBase.publish_pause\u001b[39m\u001b[34m(self)\u001b[39m\n\u001b[32m    769\u001b[39m \u001b[38;5;28;01mdef\u001b[39;00m\u001b[38;5;250m \u001b[39m\u001b[34mpublish_pause\u001b[39m(\u001b[38;5;28mself\u001b[39m) -> \u001b[38;5;28;01mNone\u001b[39;00m:\n\u001b[32m    770\u001b[39m     pause = pb.PauseRequest()\n\u001b[32m--> \u001b[39m\u001b[32m771\u001b[39m     \u001b[38;5;28;43mself\u001b[39;49m\u001b[43m.\u001b[49m\u001b[43m_publish_pause\u001b[49m\u001b[43m(\u001b[49m\u001b[43mpause\u001b[49m\u001b[43m)\u001b[49m\n",
      "\u001b[36mFile \u001b[39m\u001b[32m~/pyha-analyzer-2.0/.venv/lib/python3.11/site-packages/wandb/sdk/interface/interface_shared.py:289\u001b[39m, in \u001b[36mInterfaceShared._publish_pause\u001b[39m\u001b[34m(self, pause)\u001b[39m\n\u001b[32m    287\u001b[39m \u001b[38;5;28;01mdef\u001b[39;00m\u001b[38;5;250m \u001b[39m\u001b[34m_publish_pause\u001b[39m(\u001b[38;5;28mself\u001b[39m, pause: pb.PauseRequest) -> \u001b[38;5;28;01mNone\u001b[39;00m:\n\u001b[32m    288\u001b[39m     rec = \u001b[38;5;28mself\u001b[39m._make_request(pause=pause)\n\u001b[32m--> \u001b[39m\u001b[32m289\u001b[39m     \u001b[38;5;28;43mself\u001b[39;49m\u001b[43m.\u001b[49m\u001b[43m_publish\u001b[49m\u001b[43m(\u001b[49m\u001b[43mrec\u001b[49m\u001b[43m)\u001b[49m\n",
      "\u001b[36mFile \u001b[39m\u001b[32m~/pyha-analyzer-2.0/.venv/lib/python3.11/site-packages/wandb/sdk/interface/interface_sock.py:39\u001b[39m, in \u001b[36mInterfaceSock._publish\u001b[39m\u001b[34m(self, record, local)\u001b[39m\n\u001b[32m     37\u001b[39m \u001b[38;5;28;01mdef\u001b[39;00m\u001b[38;5;250m \u001b[39m\u001b[34m_publish\u001b[39m(\u001b[38;5;28mself\u001b[39m, record: \u001b[33m\"\u001b[39m\u001b[33mpb.Record\u001b[39m\u001b[33m\"\u001b[39m, local: Optional[\u001b[38;5;28mbool\u001b[39m] = \u001b[38;5;28;01mNone\u001b[39;00m) -> \u001b[38;5;28;01mNone\u001b[39;00m:\n\u001b[32m     38\u001b[39m     \u001b[38;5;28mself\u001b[39m._assign(record)\n\u001b[32m---> \u001b[39m\u001b[32m39\u001b[39m     \u001b[38;5;28;43mself\u001b[39;49m\u001b[43m.\u001b[49m\u001b[43m_sock_client\u001b[49m\u001b[43m.\u001b[49m\u001b[43msend_record_publish\u001b[49m\u001b[43m(\u001b[49m\u001b[43mrecord\u001b[49m\u001b[43m)\u001b[49m\n",
      "\u001b[36mFile \u001b[39m\u001b[32m~/pyha-analyzer-2.0/.venv/lib/python3.11/site-packages/wandb/sdk/lib/sock_client.py:174\u001b[39m, in \u001b[36mSockClient.send_record_publish\u001b[39m\u001b[34m(self, record)\u001b[39m\n\u001b[32m    172\u001b[39m server_req.request_id = record.control.mailbox_slot\n\u001b[32m    173\u001b[39m server_req.record_publish.CopyFrom(record)\n\u001b[32m--> \u001b[39m\u001b[32m174\u001b[39m \u001b[38;5;28;43mself\u001b[39;49m\u001b[43m.\u001b[49m\u001b[43msend_server_request\u001b[49m\u001b[43m(\u001b[49m\u001b[43mserver_req\u001b[49m\u001b[43m)\u001b[49m\n",
      "\u001b[36mFile \u001b[39m\u001b[32m~/pyha-analyzer-2.0/.venv/lib/python3.11/site-packages/wandb/sdk/lib/sock_client.py:154\u001b[39m, in \u001b[36mSockClient.send_server_request\u001b[39m\u001b[34m(self, msg)\u001b[39m\n\u001b[32m    153\u001b[39m \u001b[38;5;28;01mdef\u001b[39;00m\u001b[38;5;250m \u001b[39m\u001b[34msend_server_request\u001b[39m(\u001b[38;5;28mself\u001b[39m, msg: spb.ServerRequest) -> \u001b[38;5;28;01mNone\u001b[39;00m:\n\u001b[32m--> \u001b[39m\u001b[32m154\u001b[39m     \u001b[38;5;28;43mself\u001b[39;49m\u001b[43m.\u001b[49m\u001b[43m_send_message\u001b[49m\u001b[43m(\u001b[49m\u001b[43mmsg\u001b[49m\u001b[43m)\u001b[49m\n",
      "\u001b[36mFile \u001b[39m\u001b[32m~/pyha-analyzer-2.0/.venv/lib/python3.11/site-packages/wandb/sdk/lib/sock_client.py:151\u001b[39m, in \u001b[36mSockClient._send_message\u001b[39m\u001b[34m(self, msg)\u001b[39m\n\u001b[32m    149\u001b[39m header = struct.pack(\u001b[33m\"\u001b[39m\u001b[33m<BI\u001b[39m\u001b[33m\"\u001b[39m, \u001b[38;5;28mord\u001b[39m(\u001b[33m\"\u001b[39m\u001b[33mW\u001b[39m\u001b[33m\"\u001b[39m), raw_size)\n\u001b[32m    150\u001b[39m \u001b[38;5;28;01mwith\u001b[39;00m \u001b[38;5;28mself\u001b[39m._lock:\n\u001b[32m--> \u001b[39m\u001b[32m151\u001b[39m     \u001b[38;5;28;43mself\u001b[39;49m\u001b[43m.\u001b[49m\u001b[43m_sendall_with_error_handle\u001b[49m\u001b[43m(\u001b[49m\u001b[43mheader\u001b[49m\u001b[43m \u001b[49m\u001b[43m+\u001b[49m\u001b[43m \u001b[49m\u001b[43mdata\u001b[49m\u001b[43m)\u001b[49m\n",
      "\u001b[36mFile \u001b[39m\u001b[32m~/pyha-analyzer-2.0/.venv/lib/python3.11/site-packages/wandb/sdk/lib/sock_client.py:130\u001b[39m, in \u001b[36mSockClient._sendall_with_error_handle\u001b[39m\u001b[34m(self, data)\u001b[39m\n\u001b[32m    128\u001b[39m start_time = time.monotonic()\n\u001b[32m    129\u001b[39m \u001b[38;5;28;01mtry\u001b[39;00m:\n\u001b[32m--> \u001b[39m\u001b[32m130\u001b[39m     sent = \u001b[38;5;28;43mself\u001b[39;49m\u001b[43m.\u001b[49m\u001b[43m_sock\u001b[49m\u001b[43m.\u001b[49m\u001b[43msend\u001b[49m\u001b[43m(\u001b[49m\u001b[43mdata\u001b[49m\u001b[43m)\u001b[49m\n\u001b[32m    131\u001b[39m     \u001b[38;5;66;03m# sent equal to 0 indicates a closed socket\u001b[39;00m\n\u001b[32m    132\u001b[39m     \u001b[38;5;28;01mif\u001b[39;00m sent == \u001b[32m0\u001b[39m:\n",
      "\u001b[31mBrokenPipeError\u001b[39m: [Errno 32] Broken pipe"
     ]
    },
    {
     "data": {
      "text/html": [
       "\n",
       "    <div>\n",
       "      \n",
       "      <progress value='1' max='1' style='width:300px; height:20px; vertical-align: middle;'></progress>\n",
       "      [1/1 : < :]\n",
       "    </div>\n",
       "    "
      ],
      "text/plain": [
       "<IPython.core.display.HTML object>"
      ]
     },
     "metadata": {},
     "output_type": "display_data"
    },
    {
     "ename": "BrokenPipeError",
     "evalue": "[Errno 32] Broken pipe",
     "output_type": "error",
     "traceback": [
      "\u001b[31m---------------------------------------------------------------------------\u001b[39m",
      "\u001b[31mBrokenPipeError\u001b[39m                           Traceback (most recent call last)",
      "\u001b[36mCell\u001b[39m\u001b[36m \u001b[39m\u001b[32mIn[28]\u001b[39m\u001b[32m, line 1\u001b[39m\n\u001b[32m----> \u001b[39m\u001b[32m1\u001b[39m \u001b[43mtrainer\u001b[49m\u001b[43m.\u001b[49m\u001b[43mevaluate\u001b[49m\u001b[43m(\u001b[49m\u001b[43meval_dataset\u001b[49m\u001b[43m=\u001b[49m\u001b[43mcoral_ads\u001b[49m\u001b[43m[\u001b[49m\u001b[33;43m\"\u001b[39;49m\u001b[33;43mtest\u001b[39;49m\u001b[33;43m\"\u001b[39;49m\u001b[43m]\u001b[49m\u001b[43m,\u001b[49m\u001b[43m \u001b[49m\u001b[43mmetric_key_prefix\u001b[49m\u001b[43m=\u001b[49m\u001b[33;43m\"\u001b[39;49m\u001b[33;43mSoundscape\u001b[39;49m\u001b[33;43m\"\u001b[39;49m\u001b[43m)\u001b[49m\n",
      "\u001b[36mFile \u001b[39m\u001b[32m<string>:8\u001b[39m, in \u001b[36mevaluate\u001b[39m\u001b[34m(self, eval_dataset, ignore_keys, metric_key_prefix)\u001b[39m\n",
      "\u001b[36mFile \u001b[39m\u001b[32m~/pyha-analyzer-2.0/.venv/lib/python3.11/site-packages/transformers/trainer.py:4178\u001b[39m, in \u001b[36mTrainer.evaluate\u001b[39m\u001b[34m(self, eval_dataset, ignore_keys, metric_key_prefix)\u001b[39m\n\u001b[32m   4168\u001b[39m     start_time += output.metrics[\u001b[33mf\u001b[39m\u001b[33m\"\u001b[39m\u001b[38;5;132;01m{\u001b[39;00mmetric_key_prefix\u001b[38;5;132;01m}\u001b[39;00m\u001b[33m_model_preparation_time\u001b[39m\u001b[33m\"\u001b[39m]\n\u001b[32m   4169\u001b[39m output.metrics.update(\n\u001b[32m   4170\u001b[39m     speed_metrics(\n\u001b[32m   4171\u001b[39m         metric_key_prefix,\n\u001b[32m   (...)\u001b[39m\u001b[32m   4175\u001b[39m     )\n\u001b[32m   4176\u001b[39m )\n\u001b[32m-> \u001b[39m\u001b[32m4178\u001b[39m \u001b[38;5;28;43mself\u001b[39;49m\u001b[43m.\u001b[49m\u001b[43mlog\u001b[49m\u001b[43m(\u001b[49m\u001b[43moutput\u001b[49m\u001b[43m.\u001b[49m\u001b[43mmetrics\u001b[49m\u001b[43m)\u001b[49m\n\u001b[32m   4180\u001b[39m \u001b[38;5;28;01mif\u001b[39;00m DebugOption.TPU_METRICS_DEBUG \u001b[38;5;129;01min\u001b[39;00m \u001b[38;5;28mself\u001b[39m.args.debug:\n\u001b[32m   4181\u001b[39m     \u001b[38;5;66;03m# tpu-comment: Logging debug metrics for PyTorch/XLA (compile, execute times, ops, etc.)\u001b[39;00m\n\u001b[32m   4182\u001b[39m     xm.master_print(met.metrics_report())\n",
      "\u001b[36mFile \u001b[39m\u001b[32m~/pyha-analyzer-2.0/.venv/lib/python3.11/site-packages/transformers/trainer.py:3652\u001b[39m, in \u001b[36mTrainer.log\u001b[39m\u001b[34m(self, logs, start_time)\u001b[39m\n\u001b[32m   3650\u001b[39m output = {**logs, **{\u001b[33m\"\u001b[39m\u001b[33mstep\u001b[39m\u001b[33m\"\u001b[39m: \u001b[38;5;28mself\u001b[39m.state.global_step}}\n\u001b[32m   3651\u001b[39m \u001b[38;5;28mself\u001b[39m.state.log_history.append(output)\n\u001b[32m-> \u001b[39m\u001b[32m3652\u001b[39m \u001b[38;5;28mself\u001b[39m.control = \u001b[38;5;28;43mself\u001b[39;49m\u001b[43m.\u001b[49m\u001b[43mcallback_handler\u001b[49m\u001b[43m.\u001b[49m\u001b[43mon_log\u001b[49m\u001b[43m(\u001b[49m\u001b[38;5;28;43mself\u001b[39;49m\u001b[43m.\u001b[49m\u001b[43margs\u001b[49m\u001b[43m,\u001b[49m\u001b[43m \u001b[49m\u001b[38;5;28;43mself\u001b[39;49m\u001b[43m.\u001b[49m\u001b[43mstate\u001b[49m\u001b[43m,\u001b[49m\u001b[43m \u001b[49m\u001b[38;5;28;43mself\u001b[39;49m\u001b[43m.\u001b[49m\u001b[43mcontrol\u001b[49m\u001b[43m,\u001b[49m\u001b[43m \u001b[49m\u001b[43mlogs\u001b[49m\u001b[43m)\u001b[49m\n",
      "\u001b[36mFile \u001b[39m\u001b[32m~/pyha-analyzer-2.0/.venv/lib/python3.11/site-packages/transformers/trainer_callback.py:549\u001b[39m, in \u001b[36mCallbackHandler.on_log\u001b[39m\u001b[34m(self, args, state, control, logs)\u001b[39m\n\u001b[32m    547\u001b[39m \u001b[38;5;28;01mdef\u001b[39;00m\u001b[38;5;250m \u001b[39m\u001b[34mon_log\u001b[39m(\u001b[38;5;28mself\u001b[39m, args: TrainingArguments, state: TrainerState, control: TrainerControl, logs):\n\u001b[32m    548\u001b[39m     control.should_log = \u001b[38;5;28;01mFalse\u001b[39;00m\n\u001b[32m--> \u001b[39m\u001b[32m549\u001b[39m     \u001b[38;5;28;01mreturn\u001b[39;00m \u001b[38;5;28;43mself\u001b[39;49m\u001b[43m.\u001b[49m\u001b[43mcall_event\u001b[49m\u001b[43m(\u001b[49m\u001b[33;43m\"\u001b[39;49m\u001b[33;43mon_log\u001b[39;49m\u001b[33;43m\"\u001b[39;49m\u001b[43m,\u001b[49m\u001b[43m \u001b[49m\u001b[43margs\u001b[49m\u001b[43m,\u001b[49m\u001b[43m \u001b[49m\u001b[43mstate\u001b[49m\u001b[43m,\u001b[49m\u001b[43m \u001b[49m\u001b[43mcontrol\u001b[49m\u001b[43m,\u001b[49m\u001b[43m \u001b[49m\u001b[43mlogs\u001b[49m\u001b[43m=\u001b[49m\u001b[43mlogs\u001b[49m\u001b[43m)\u001b[49m\n",
      "\u001b[36mFile \u001b[39m\u001b[32m~/pyha-analyzer-2.0/.venv/lib/python3.11/site-packages/transformers/trainer_callback.py:556\u001b[39m, in \u001b[36mCallbackHandler.call_event\u001b[39m\u001b[34m(self, event, args, state, control, **kwargs)\u001b[39m\n\u001b[32m    554\u001b[39m \u001b[38;5;28;01mdef\u001b[39;00m\u001b[38;5;250m \u001b[39m\u001b[34mcall_event\u001b[39m(\u001b[38;5;28mself\u001b[39m, event, args, state, control, **kwargs):\n\u001b[32m    555\u001b[39m     \u001b[38;5;28;01mfor\u001b[39;00m callback \u001b[38;5;129;01min\u001b[39;00m \u001b[38;5;28mself\u001b[39m.callbacks:\n\u001b[32m--> \u001b[39m\u001b[32m556\u001b[39m         result = \u001b[38;5;28;43mgetattr\u001b[39;49m\u001b[43m(\u001b[49m\u001b[43mcallback\u001b[49m\u001b[43m,\u001b[49m\u001b[43m \u001b[49m\u001b[43mevent\u001b[49m\u001b[43m)\u001b[49m\u001b[43m(\u001b[49m\n\u001b[32m    557\u001b[39m \u001b[43m            \u001b[49m\u001b[43margs\u001b[49m\u001b[43m,\u001b[49m\n\u001b[32m    558\u001b[39m \u001b[43m            \u001b[49m\u001b[43mstate\u001b[49m\u001b[43m,\u001b[49m\n\u001b[32m    559\u001b[39m \u001b[43m            \u001b[49m\u001b[43mcontrol\u001b[49m\u001b[43m,\u001b[49m\n\u001b[32m    560\u001b[39m \u001b[43m            \u001b[49m\u001b[43mmodel\u001b[49m\u001b[43m=\u001b[49m\u001b[38;5;28;43mself\u001b[39;49m\u001b[43m.\u001b[49m\u001b[43mmodel\u001b[49m\u001b[43m,\u001b[49m\n\u001b[32m    561\u001b[39m \u001b[43m            \u001b[49m\u001b[43mprocessing_class\u001b[49m\u001b[43m=\u001b[49m\u001b[38;5;28;43mself\u001b[39;49m\u001b[43m.\u001b[49m\u001b[43mprocessing_class\u001b[49m\u001b[43m,\u001b[49m\n\u001b[32m    562\u001b[39m \u001b[43m            \u001b[49m\u001b[43moptimizer\u001b[49m\u001b[43m=\u001b[49m\u001b[38;5;28;43mself\u001b[39;49m\u001b[43m.\u001b[49m\u001b[43moptimizer\u001b[49m\u001b[43m,\u001b[49m\n\u001b[32m    563\u001b[39m \u001b[43m            \u001b[49m\u001b[43mlr_scheduler\u001b[49m\u001b[43m=\u001b[49m\u001b[38;5;28;43mself\u001b[39;49m\u001b[43m.\u001b[49m\u001b[43mlr_scheduler\u001b[49m\u001b[43m,\u001b[49m\n\u001b[32m    564\u001b[39m \u001b[43m            \u001b[49m\u001b[43mtrain_dataloader\u001b[49m\u001b[43m=\u001b[49m\u001b[38;5;28;43mself\u001b[39;49m\u001b[43m.\u001b[49m\u001b[43mtrain_dataloader\u001b[49m\u001b[43m,\u001b[49m\n\u001b[32m    565\u001b[39m \u001b[43m            \u001b[49m\u001b[43meval_dataloader\u001b[49m\u001b[43m=\u001b[49m\u001b[38;5;28;43mself\u001b[39;49m\u001b[43m.\u001b[49m\u001b[43meval_dataloader\u001b[49m\u001b[43m,\u001b[49m\n\u001b[32m    566\u001b[39m \u001b[43m            \u001b[49m\u001b[43m*\u001b[49m\u001b[43m*\u001b[49m\u001b[43mkwargs\u001b[49m\u001b[43m,\u001b[49m\n\u001b[32m    567\u001b[39m \u001b[43m        \u001b[49m\u001b[43m)\u001b[49m\n\u001b[32m    568\u001b[39m         \u001b[38;5;66;03m# A Callback can skip the return of `control` if it doesn't change it.\u001b[39;00m\n\u001b[32m    569\u001b[39m         \u001b[38;5;28;01mif\u001b[39;00m result \u001b[38;5;129;01mis\u001b[39;00m \u001b[38;5;129;01mnot\u001b[39;00m \u001b[38;5;28;01mNone\u001b[39;00m:\n",
      "\u001b[36mFile \u001b[39m\u001b[32m~/pyha-analyzer-2.0/.venv/lib/python3.11/site-packages/transformers/integrations/integration_utils.py:990\u001b[39m, in \u001b[36mWandbCallback.on_log\u001b[39m\u001b[34m(self, args, state, control, model, logs, **kwargs)\u001b[39m\n\u001b[32m    988\u001b[39m non_scalar_logs = {k: v \u001b[38;5;28;01mfor\u001b[39;00m k, v \u001b[38;5;129;01min\u001b[39;00m logs.items() \u001b[38;5;28;01mif\u001b[39;00m k \u001b[38;5;129;01mnot\u001b[39;00m \u001b[38;5;129;01min\u001b[39;00m single_value_scalars}\n\u001b[32m    989\u001b[39m non_scalar_logs = rewrite_logs(non_scalar_logs)\n\u001b[32m--> \u001b[39m\u001b[32m990\u001b[39m \u001b[38;5;28;43mself\u001b[39;49m\u001b[43m.\u001b[49m\u001b[43m_wandb\u001b[49m\u001b[43m.\u001b[49m\u001b[43mlog\u001b[49m\u001b[43m(\u001b[49m\u001b[43m{\u001b[49m\u001b[43m*\u001b[49m\u001b[43m*\u001b[49m\u001b[43mnon_scalar_logs\u001b[49m\u001b[43m,\u001b[49m\u001b[43m \u001b[49m\u001b[33;43m\"\u001b[39;49m\u001b[33;43mtrain/global_step\u001b[39;49m\u001b[33;43m\"\u001b[39;49m\u001b[43m:\u001b[49m\u001b[43m \u001b[49m\u001b[43mstate\u001b[49m\u001b[43m.\u001b[49m\u001b[43mglobal_step\u001b[49m\u001b[43m}\u001b[49m\u001b[43m)\u001b[49m\n",
      "\u001b[36mFile \u001b[39m\u001b[32m~/pyha-analyzer-2.0/.venv/lib/python3.11/site-packages/wandb/sdk/wandb_run.py:406\u001b[39m, in \u001b[36m_log_to_run.<locals>.wrapper\u001b[39m\u001b[34m(self, *args, **kwargs)\u001b[39m\n\u001b[32m    403\u001b[39m     run_id = \u001b[38;5;28mself\u001b[39m._attach_id\n\u001b[32m    405\u001b[39m \u001b[38;5;28;01mwith\u001b[39;00m wb_logging.log_to_run(run_id):\n\u001b[32m--> \u001b[39m\u001b[32m406\u001b[39m     \u001b[38;5;28;01mreturn\u001b[39;00m \u001b[43mfunc\u001b[49m\u001b[43m(\u001b[49m\u001b[38;5;28;43mself\u001b[39;49m\u001b[43m,\u001b[49m\u001b[43m \u001b[49m\u001b[43m*\u001b[49m\u001b[43margs\u001b[49m\u001b[43m,\u001b[49m\u001b[43m \u001b[49m\u001b[43m*\u001b[49m\u001b[43m*\u001b[49m\u001b[43mkwargs\u001b[49m\u001b[43m)\u001b[49m\n",
      "\u001b[36mFile \u001b[39m\u001b[32m~/pyha-analyzer-2.0/.venv/lib/python3.11/site-packages/wandb/sdk/wandb_run.py:503\u001b[39m, in \u001b[36m_noop_if_forked_with_no_service.<locals>.wrapper\u001b[39m\u001b[34m(self, *args, **kwargs)\u001b[39m\n\u001b[32m    500\u001b[39m init_pid = \u001b[38;5;28mself\u001b[39m._init_pid\n\u001b[32m    502\u001b[39m \u001b[38;5;28;01mif\u001b[39;00m is_using_service \u001b[38;5;129;01mor\u001b[39;00m init_pid == os.getpid():\n\u001b[32m--> \u001b[39m\u001b[32m503\u001b[39m     \u001b[38;5;28;01mreturn\u001b[39;00m \u001b[43mfunc\u001b[49m\u001b[43m(\u001b[49m\u001b[38;5;28;43mself\u001b[39;49m\u001b[43m,\u001b[49m\u001b[43m \u001b[49m\u001b[43m*\u001b[49m\u001b[43margs\u001b[49m\u001b[43m,\u001b[49m\u001b[43m \u001b[49m\u001b[43m*\u001b[49m\u001b[43m*\u001b[49m\u001b[43mkwargs\u001b[49m\u001b[43m)\u001b[49m\n\u001b[32m    505\u001b[39m message = (\n\u001b[32m    506\u001b[39m     \u001b[33mf\u001b[39m\u001b[33m\"\u001b[39m\u001b[33m`\u001b[39m\u001b[38;5;132;01m{\u001b[39;00mfunc.\u001b[34m__name__\u001b[39m\u001b[38;5;132;01m}\u001b[39;00m\u001b[33m` ignored (called from pid=\u001b[39m\u001b[38;5;132;01m{\u001b[39;00mos.getpid()\u001b[38;5;132;01m}\u001b[39;00m\u001b[33m,\u001b[39m\u001b[33m\"\u001b[39m\n\u001b[32m    507\u001b[39m     \u001b[33mf\u001b[39m\u001b[33m\"\u001b[39m\u001b[33m `init` called from pid=\u001b[39m\u001b[38;5;132;01m{\u001b[39;00minit_pid\u001b[38;5;132;01m}\u001b[39;00m\u001b[33m).\u001b[39m\u001b[33m\"\u001b[39m\n\u001b[32m    508\u001b[39m     \u001b[33mf\u001b[39m\u001b[33m\"\u001b[39m\u001b[33m See: \u001b[39m\u001b[38;5;132;01m{\u001b[39;00murl_registry.url(\u001b[33m'\u001b[39m\u001b[33mmultiprocess\u001b[39m\u001b[33m'\u001b[39m)\u001b[38;5;132;01m}\u001b[39;00m\u001b[33m\"\u001b[39m\n\u001b[32m    509\u001b[39m )\n\u001b[32m    511\u001b[39m \u001b[38;5;66;03m# This attribute may not exist because it is not included in the run's\u001b[39;00m\n\u001b[32m    512\u001b[39m \u001b[38;5;66;03m# pickled state.\u001b[39;00m\n",
      "\u001b[36mFile \u001b[39m\u001b[32m~/pyha-analyzer-2.0/.venv/lib/python3.11/site-packages/wandb/sdk/wandb_run.py:464\u001b[39m, in \u001b[36m_raise_if_finished.<locals>.wrapper_fn\u001b[39m\u001b[34m(self, *args, **kwargs)\u001b[39m\n\u001b[32m    461\u001b[39m \u001b[38;5;129m@functools\u001b[39m.wraps(func)\n\u001b[32m    462\u001b[39m \u001b[38;5;28;01mdef\u001b[39;00m\u001b[38;5;250m \u001b[39m\u001b[34mwrapper_fn\u001b[39m(\u001b[38;5;28mself\u001b[39m: Run, *args, **kwargs) -> _T:\n\u001b[32m    463\u001b[39m     \u001b[38;5;28;01mif\u001b[39;00m \u001b[38;5;129;01mnot\u001b[39;00m \u001b[38;5;28mgetattr\u001b[39m(\u001b[38;5;28mself\u001b[39m, \u001b[33m\"\u001b[39m\u001b[33m_is_finished\u001b[39m\u001b[33m\"\u001b[39m, \u001b[38;5;28;01mFalse\u001b[39;00m):\n\u001b[32m--> \u001b[39m\u001b[32m464\u001b[39m         \u001b[38;5;28;01mreturn\u001b[39;00m \u001b[43mfunc\u001b[49m\u001b[43m(\u001b[49m\u001b[38;5;28;43mself\u001b[39;49m\u001b[43m,\u001b[49m\u001b[43m \u001b[49m\u001b[43m*\u001b[49m\u001b[43margs\u001b[49m\u001b[43m,\u001b[49m\u001b[43m \u001b[49m\u001b[43m*\u001b[49m\u001b[43m*\u001b[49m\u001b[43mkwargs\u001b[49m\u001b[43m)\u001b[49m\n\u001b[32m    466\u001b[39m     message = (\n\u001b[32m    467\u001b[39m         \u001b[33mf\u001b[39m\u001b[33m\"\u001b[39m\u001b[33mRun (\u001b[39m\u001b[38;5;132;01m{\u001b[39;00m\u001b[38;5;28mself\u001b[39m.id\u001b[38;5;132;01m}\u001b[39;00m\u001b[33m) is finished. The call to\u001b[39m\u001b[33m\"\u001b[39m\n\u001b[32m    468\u001b[39m         \u001b[33mf\u001b[39m\u001b[33m\"\u001b[39m\u001b[33m `\u001b[39m\u001b[38;5;132;01m{\u001b[39;00mfunc.\u001b[34m__name__\u001b[39m\u001b[38;5;132;01m}\u001b[39;00m\u001b[33m` will be ignored.\u001b[39m\u001b[33m\"\u001b[39m\n\u001b[32m    469\u001b[39m         \u001b[33mf\u001b[39m\u001b[33m\"\u001b[39m\u001b[33m Please make sure that you are using an active run.\u001b[39m\u001b[33m\"\u001b[39m\n\u001b[32m    470\u001b[39m     )\n\u001b[32m    472\u001b[39m     \u001b[38;5;28;01mraise\u001b[39;00m UsageError(message)\n",
      "\u001b[36mFile \u001b[39m\u001b[32m~/pyha-analyzer-2.0/.venv/lib/python3.11/site-packages/wandb/sdk/wandb_run.py:451\u001b[39m, in \u001b[36m_attach.<locals>.wrapper\u001b[39m\u001b[34m(self, *args, **kwargs)\u001b[39m\n\u001b[32m    448\u001b[39m     \u001b[38;5;28;01mfinally\u001b[39;00m:\n\u001b[32m    449\u001b[39m         _is_attaching = \u001b[33m\"\u001b[39m\u001b[33m\"\u001b[39m\n\u001b[32m--> \u001b[39m\u001b[32m451\u001b[39m \u001b[38;5;28;01mreturn\u001b[39;00m \u001b[43mfunc\u001b[49m\u001b[43m(\u001b[49m\u001b[38;5;28;43mself\u001b[39;49m\u001b[43m,\u001b[49m\u001b[43m \u001b[49m\u001b[43m*\u001b[49m\u001b[43margs\u001b[49m\u001b[43m,\u001b[49m\u001b[43m \u001b[49m\u001b[43m*\u001b[49m\u001b[43m*\u001b[49m\u001b[43mkwargs\u001b[49m\u001b[43m)\u001b[49m\n",
      "\u001b[36mFile \u001b[39m\u001b[32m~/pyha-analyzer-2.0/.venv/lib/python3.11/site-packages/wandb/sdk/wandb_run.py:2064\u001b[39m, in \u001b[36mRun.log\u001b[39m\u001b[34m(self, data, step, commit, sync)\u001b[39m\n\u001b[32m   2057\u001b[39m \u001b[38;5;28;01mif\u001b[39;00m \u001b[38;5;28mself\u001b[39m._settings._shared \u001b[38;5;129;01mand\u001b[39;00m step \u001b[38;5;129;01mis\u001b[39;00m \u001b[38;5;129;01mnot\u001b[39;00m \u001b[38;5;28;01mNone\u001b[39;00m:\n\u001b[32m   2058\u001b[39m     wandb.termwarn(\n\u001b[32m   2059\u001b[39m         \u001b[33m\"\u001b[39m\u001b[33mIn shared mode, the use of `wandb.log` with the step argument is not supported \u001b[39m\u001b[33m\"\u001b[39m\n\u001b[32m   2060\u001b[39m         \u001b[33mf\u001b[39m\u001b[33m\"\u001b[39m\u001b[33mand will be ignored. Please refer to \u001b[39m\u001b[38;5;132;01m{\u001b[39;00murl_registry.url(\u001b[33m'\u001b[39m\u001b[33mdefine-metric\u001b[39m\u001b[33m'\u001b[39m)\u001b[38;5;132;01m}\u001b[39;00m\u001b[33m \u001b[39m\u001b[33m\"\u001b[39m\n\u001b[32m   2061\u001b[39m         \u001b[33m\"\u001b[39m\u001b[33mon how to customize your x-axis.\u001b[39m\u001b[33m\"\u001b[39m,\n\u001b[32m   2062\u001b[39m         repeat=\u001b[38;5;28;01mFalse\u001b[39;00m,\n\u001b[32m   2063\u001b[39m     )\n\u001b[32m-> \u001b[39m\u001b[32m2064\u001b[39m \u001b[38;5;28;43mself\u001b[39;49m\u001b[43m.\u001b[49m\u001b[43m_log\u001b[49m\u001b[43m(\u001b[49m\u001b[43mdata\u001b[49m\u001b[43m=\u001b[49m\u001b[43mdata\u001b[49m\u001b[43m,\u001b[49m\u001b[43m \u001b[49m\u001b[43mstep\u001b[49m\u001b[43m=\u001b[49m\u001b[43mstep\u001b[49m\u001b[43m,\u001b[49m\u001b[43m \u001b[49m\u001b[43mcommit\u001b[49m\u001b[43m=\u001b[49m\u001b[43mcommit\u001b[49m\u001b[43m)\u001b[49m\n",
      "\u001b[36mFile \u001b[39m\u001b[32m~/pyha-analyzer-2.0/.venv/lib/python3.11/site-packages/wandb/sdk/wandb_run.py:1776\u001b[39m, in \u001b[36mRun._log\u001b[39m\u001b[34m(self, data, step, commit)\u001b[39m\n\u001b[32m   1773\u001b[39m \u001b[38;5;28;01mif\u001b[39;00m \u001b[38;5;28many\u001b[39m(\u001b[38;5;129;01mnot\u001b[39;00m \u001b[38;5;28misinstance\u001b[39m(key, \u001b[38;5;28mstr\u001b[39m) \u001b[38;5;28;01mfor\u001b[39;00m key \u001b[38;5;129;01min\u001b[39;00m data.keys()):\n\u001b[32m   1774\u001b[39m     \u001b[38;5;28;01mraise\u001b[39;00m \u001b[38;5;167;01mValueError\u001b[39;00m(\u001b[33m\"\u001b[39m\u001b[33mKey values passed to `wandb.log` must be strings.\u001b[39m\u001b[33m\"\u001b[39m)\n\u001b[32m-> \u001b[39m\u001b[32m1776\u001b[39m \u001b[38;5;28;43mself\u001b[39;49m\u001b[43m.\u001b[49m\u001b[43m_partial_history_callback\u001b[49m\u001b[43m(\u001b[49m\u001b[43mdata\u001b[49m\u001b[43m,\u001b[49m\u001b[43m \u001b[49m\u001b[43mstep\u001b[49m\u001b[43m,\u001b[49m\u001b[43m \u001b[49m\u001b[43mcommit\u001b[49m\u001b[43m)\u001b[49m\n\u001b[32m   1778\u001b[39m \u001b[38;5;28;01mif\u001b[39;00m step \u001b[38;5;129;01mis\u001b[39;00m \u001b[38;5;129;01mnot\u001b[39;00m \u001b[38;5;28;01mNone\u001b[39;00m:\n\u001b[32m   1779\u001b[39m     \u001b[38;5;28;01mif\u001b[39;00m os.getpid() != \u001b[38;5;28mself\u001b[39m._init_pid \u001b[38;5;129;01mor\u001b[39;00m \u001b[38;5;28mself\u001b[39m._is_attached:\n",
      "\u001b[36mFile \u001b[39m\u001b[32m~/pyha-analyzer-2.0/.venv/lib/python3.11/site-packages/wandb/sdk/wandb_run.py:406\u001b[39m, in \u001b[36m_log_to_run.<locals>.wrapper\u001b[39m\u001b[34m(self, *args, **kwargs)\u001b[39m\n\u001b[32m    403\u001b[39m     run_id = \u001b[38;5;28mself\u001b[39m._attach_id\n\u001b[32m    405\u001b[39m \u001b[38;5;28;01mwith\u001b[39;00m wb_logging.log_to_run(run_id):\n\u001b[32m--> \u001b[39m\u001b[32m406\u001b[39m     \u001b[38;5;28;01mreturn\u001b[39;00m \u001b[43mfunc\u001b[49m\u001b[43m(\u001b[49m\u001b[38;5;28;43mself\u001b[39;49m\u001b[43m,\u001b[49m\u001b[43m \u001b[49m\u001b[43m*\u001b[49m\u001b[43margs\u001b[49m\u001b[43m,\u001b[49m\u001b[43m \u001b[49m\u001b[43m*\u001b[49m\u001b[43m*\u001b[49m\u001b[43mkwargs\u001b[49m\u001b[43m)\u001b[49m\n",
      "\u001b[36mFile \u001b[39m\u001b[32m~/pyha-analyzer-2.0/.venv/lib/python3.11/site-packages/wandb/sdk/wandb_run.py:1603\u001b[39m, in \u001b[36mRun._partial_history_callback\u001b[39m\u001b[34m(self, data, step, commit)\u001b[39m\n\u001b[32m   1600\u001b[39m data = \u001b[38;5;28mself\u001b[39m._serialize_custom_charts(data)\n\u001b[32m   1602\u001b[39m not_using_tensorboard = \u001b[38;5;28mlen\u001b[39m(wandb.patched[\u001b[33m\"\u001b[39m\u001b[33mtensorboard\u001b[39m\u001b[33m\"\u001b[39m]) == \u001b[32m0\u001b[39m\n\u001b[32m-> \u001b[39m\u001b[32m1603\u001b[39m \u001b[38;5;28;43mself\u001b[39;49m\u001b[43m.\u001b[49m\u001b[43m_backend\u001b[49m\u001b[43m.\u001b[49m\u001b[43minterface\u001b[49m\u001b[43m.\u001b[49m\u001b[43mpublish_partial_history\u001b[49m\u001b[43m(\u001b[49m\n\u001b[32m   1604\u001b[39m \u001b[43m    \u001b[49m\u001b[38;5;28;43mself\u001b[39;49m\u001b[43m,\u001b[49m\n\u001b[32m   1605\u001b[39m \u001b[43m    \u001b[49m\u001b[43mdata\u001b[49m\u001b[43m,\u001b[49m\n\u001b[32m   1606\u001b[39m \u001b[43m    \u001b[49m\u001b[43muser_step\u001b[49m\u001b[43m=\u001b[49m\u001b[38;5;28;43mself\u001b[39;49m\u001b[43m.\u001b[49m\u001b[43m_step\u001b[49m\u001b[43m,\u001b[49m\n\u001b[32m   1607\u001b[39m \u001b[43m    \u001b[49m\u001b[43mstep\u001b[49m\u001b[43m=\u001b[49m\u001b[43mstep\u001b[49m\u001b[43m,\u001b[49m\n\u001b[32m   1608\u001b[39m \u001b[43m    \u001b[49m\u001b[43mflush\u001b[49m\u001b[43m=\u001b[49m\u001b[43mcommit\u001b[49m\u001b[43m,\u001b[49m\n\u001b[32m   1609\u001b[39m \u001b[43m    \u001b[49m\u001b[43mpublish_step\u001b[49m\u001b[43m=\u001b[49m\u001b[43mnot_using_tensorboard\u001b[49m\u001b[43m,\u001b[49m\n\u001b[32m   1610\u001b[39m \u001b[43m\u001b[49m\u001b[43m)\u001b[49m\n",
      "\u001b[36mFile \u001b[39m\u001b[32m~/pyha-analyzer-2.0/.venv/lib/python3.11/site-packages/wandb/sdk/interface/interface.py:692\u001b[39m, in \u001b[36mInterfaceBase.publish_partial_history\u001b[39m\u001b[34m(self, run, data, user_step, step, flush, publish_step)\u001b[39m\n\u001b[32m    690\u001b[39m \u001b[38;5;28;01mif\u001b[39;00m flush \u001b[38;5;129;01mis\u001b[39;00m \u001b[38;5;129;01mnot\u001b[39;00m \u001b[38;5;28;01mNone\u001b[39;00m:\n\u001b[32m    691\u001b[39m     partial_history.action.flush = flush\n\u001b[32m--> \u001b[39m\u001b[32m692\u001b[39m \u001b[38;5;28;43mself\u001b[39;49m\u001b[43m.\u001b[49m\u001b[43m_publish_partial_history\u001b[49m\u001b[43m(\u001b[49m\u001b[43mpartial_history\u001b[49m\u001b[43m)\u001b[49m\n",
      "\u001b[36mFile \u001b[39m\u001b[32m~/pyha-analyzer-2.0/.venv/lib/python3.11/site-packages/wandb/sdk/interface/interface_shared.py:48\u001b[39m, in \u001b[36mInterfaceShared._publish_partial_history\u001b[39m\u001b[34m(self, partial_history)\u001b[39m\n\u001b[32m     44\u001b[39m \u001b[38;5;28;01mdef\u001b[39;00m\u001b[38;5;250m \u001b[39m\u001b[34m_publish_partial_history\u001b[39m(\n\u001b[32m     45\u001b[39m     \u001b[38;5;28mself\u001b[39m, partial_history: pb.PartialHistoryRequest\n\u001b[32m     46\u001b[39m ) -> \u001b[38;5;28;01mNone\u001b[39;00m:\n\u001b[32m     47\u001b[39m     rec = \u001b[38;5;28mself\u001b[39m._make_request(partial_history=partial_history)\n\u001b[32m---> \u001b[39m\u001b[32m48\u001b[39m     \u001b[38;5;28;43mself\u001b[39;49m\u001b[43m.\u001b[49m\u001b[43m_publish\u001b[49m\u001b[43m(\u001b[49m\u001b[43mrec\u001b[49m\u001b[43m)\u001b[49m\n",
      "\u001b[36mFile \u001b[39m\u001b[32m~/pyha-analyzer-2.0/.venv/lib/python3.11/site-packages/wandb/sdk/interface/interface_sock.py:39\u001b[39m, in \u001b[36mInterfaceSock._publish\u001b[39m\u001b[34m(self, record, local)\u001b[39m\n\u001b[32m     37\u001b[39m \u001b[38;5;28;01mdef\u001b[39;00m\u001b[38;5;250m \u001b[39m\u001b[34m_publish\u001b[39m(\u001b[38;5;28mself\u001b[39m, record: \u001b[33m\"\u001b[39m\u001b[33mpb.Record\u001b[39m\u001b[33m\"\u001b[39m, local: Optional[\u001b[38;5;28mbool\u001b[39m] = \u001b[38;5;28;01mNone\u001b[39;00m) -> \u001b[38;5;28;01mNone\u001b[39;00m:\n\u001b[32m     38\u001b[39m     \u001b[38;5;28mself\u001b[39m._assign(record)\n\u001b[32m---> \u001b[39m\u001b[32m39\u001b[39m     \u001b[38;5;28;43mself\u001b[39;49m\u001b[43m.\u001b[49m\u001b[43m_sock_client\u001b[49m\u001b[43m.\u001b[49m\u001b[43msend_record_publish\u001b[49m\u001b[43m(\u001b[49m\u001b[43mrecord\u001b[49m\u001b[43m)\u001b[49m\n",
      "\u001b[36mFile \u001b[39m\u001b[32m~/pyha-analyzer-2.0/.venv/lib/python3.11/site-packages/wandb/sdk/lib/sock_client.py:174\u001b[39m, in \u001b[36mSockClient.send_record_publish\u001b[39m\u001b[34m(self, record)\u001b[39m\n\u001b[32m    172\u001b[39m server_req.request_id = record.control.mailbox_slot\n\u001b[32m    173\u001b[39m server_req.record_publish.CopyFrom(record)\n\u001b[32m--> \u001b[39m\u001b[32m174\u001b[39m \u001b[38;5;28;43mself\u001b[39;49m\u001b[43m.\u001b[49m\u001b[43msend_server_request\u001b[49m\u001b[43m(\u001b[49m\u001b[43mserver_req\u001b[49m\u001b[43m)\u001b[49m\n",
      "\u001b[36mFile \u001b[39m\u001b[32m~/pyha-analyzer-2.0/.venv/lib/python3.11/site-packages/wandb/sdk/lib/sock_client.py:154\u001b[39m, in \u001b[36mSockClient.send_server_request\u001b[39m\u001b[34m(self, msg)\u001b[39m\n\u001b[32m    153\u001b[39m \u001b[38;5;28;01mdef\u001b[39;00m\u001b[38;5;250m \u001b[39m\u001b[34msend_server_request\u001b[39m(\u001b[38;5;28mself\u001b[39m, msg: spb.ServerRequest) -> \u001b[38;5;28;01mNone\u001b[39;00m:\n\u001b[32m--> \u001b[39m\u001b[32m154\u001b[39m     \u001b[38;5;28;43mself\u001b[39;49m\u001b[43m.\u001b[49m\u001b[43m_send_message\u001b[49m\u001b[43m(\u001b[49m\u001b[43mmsg\u001b[49m\u001b[43m)\u001b[49m\n",
      "\u001b[36mFile \u001b[39m\u001b[32m~/pyha-analyzer-2.0/.venv/lib/python3.11/site-packages/wandb/sdk/lib/sock_client.py:151\u001b[39m, in \u001b[36mSockClient._send_message\u001b[39m\u001b[34m(self, msg)\u001b[39m\n\u001b[32m    149\u001b[39m header = struct.pack(\u001b[33m\"\u001b[39m\u001b[33m<BI\u001b[39m\u001b[33m\"\u001b[39m, \u001b[38;5;28mord\u001b[39m(\u001b[33m\"\u001b[39m\u001b[33mW\u001b[39m\u001b[33m\"\u001b[39m), raw_size)\n\u001b[32m    150\u001b[39m \u001b[38;5;28;01mwith\u001b[39;00m \u001b[38;5;28mself\u001b[39m._lock:\n\u001b[32m--> \u001b[39m\u001b[32m151\u001b[39m     \u001b[38;5;28;43mself\u001b[39;49m\u001b[43m.\u001b[49m\u001b[43m_sendall_with_error_handle\u001b[49m\u001b[43m(\u001b[49m\u001b[43mheader\u001b[49m\u001b[43m \u001b[49m\u001b[43m+\u001b[49m\u001b[43m \u001b[49m\u001b[43mdata\u001b[49m\u001b[43m)\u001b[49m\n",
      "\u001b[36mFile \u001b[39m\u001b[32m~/pyha-analyzer-2.0/.venv/lib/python3.11/site-packages/wandb/sdk/lib/sock_client.py:130\u001b[39m, in \u001b[36mSockClient._sendall_with_error_handle\u001b[39m\u001b[34m(self, data)\u001b[39m\n\u001b[32m    128\u001b[39m start_time = time.monotonic()\n\u001b[32m    129\u001b[39m \u001b[38;5;28;01mtry\u001b[39;00m:\n\u001b[32m--> \u001b[39m\u001b[32m130\u001b[39m     sent = \u001b[38;5;28;43mself\u001b[39;49m\u001b[43m.\u001b[49m\u001b[43m_sock\u001b[49m\u001b[43m.\u001b[49m\u001b[43msend\u001b[49m\u001b[43m(\u001b[49m\u001b[43mdata\u001b[49m\u001b[43m)\u001b[49m\n\u001b[32m    131\u001b[39m     \u001b[38;5;66;03m# sent equal to 0 indicates a closed socket\u001b[39;00m\n\u001b[32m    132\u001b[39m     \u001b[38;5;28;01mif\u001b[39;00m sent == \u001b[32m0\u001b[39m:\n",
      "\u001b[31mBrokenPipeError\u001b[39m: [Errno 32] Broken pipe"
     ]
    },
    {
     "name": "stdout",
     "output_type": "stream",
     "text": [
      "Error in callback <bound method _WandbInit._post_run_cell_hook of <wandb.sdk.wandb_init._WandbInit object at 0x7f0cad9d1e50>> (for post_run_cell), with arguments args (<ExecutionResult object at 7f0cadae3d90, execution_count=28 error_before_exec=None error_in_exec=[Errno 32] Broken pipe info=<ExecutionInfo object at 7f0cad963f10, raw_cell=\"trainer.evaluate(eval_dataset=coral_ads[\"test\"], m..\" store_history=True silent=False shell_futures=True cell_id=vscode-notebook-cell://ssh-remote%2Bkastner-ml/home/s.kamboj.400/pyha-analyzer-2.0/train_demo.ipynb#X22sdnNjb2RlLXJlbW90ZQ%3D%3D> result=None>,),kwargs {}:\n"
     ]
    },
    {
     "ename": "BrokenPipeError",
     "evalue": "[Errno 32] Broken pipe",
     "output_type": "error",
     "traceback": [
      "\u001b[31m---------------------------------------------------------------------------\u001b[39m",
      "\u001b[31mBrokenPipeError\u001b[39m                           Traceback (most recent call last)",
      "\u001b[36mFile \u001b[39m\u001b[32m~/pyha-analyzer-2.0/.venv/lib/python3.11/site-packages/wandb/sdk/wandb_init.py:614\u001b[39m, in \u001b[36m_WandbInit._post_run_cell_hook\u001b[39m\u001b[34m(self, *args, **kwargs)\u001b[39m\n\u001b[32m    611\u001b[39m     \u001b[38;5;28;01mreturn\u001b[39;00m\n\u001b[32m    613\u001b[39m \u001b[38;5;28mself\u001b[39m._logger.info(\u001b[33m\"\u001b[39m\u001b[33mresuming backend\u001b[39m\u001b[33m\"\u001b[39m)\n\u001b[32m--> \u001b[39m\u001b[32m614\u001b[39m \u001b[38;5;28;43mself\u001b[39;49m\u001b[43m.\u001b[49m\u001b[43mbackend\u001b[49m\u001b[43m.\u001b[49m\u001b[43minterface\u001b[49m\u001b[43m.\u001b[49m\u001b[43mpublish_resume\u001b[49m\u001b[43m(\u001b[49m\u001b[43m)\u001b[49m\n",
      "\u001b[36mFile \u001b[39m\u001b[32m~/pyha-analyzer-2.0/.venv/lib/python3.11/site-packages/wandb/sdk/interface/interface.py:779\u001b[39m, in \u001b[36mInterfaceBase.publish_resume\u001b[39m\u001b[34m(self)\u001b[39m\n\u001b[32m    777\u001b[39m \u001b[38;5;28;01mdef\u001b[39;00m\u001b[38;5;250m \u001b[39m\u001b[34mpublish_resume\u001b[39m(\u001b[38;5;28mself\u001b[39m) -> \u001b[38;5;28;01mNone\u001b[39;00m:\n\u001b[32m    778\u001b[39m     resume = pb.ResumeRequest()\n\u001b[32m--> \u001b[39m\u001b[32m779\u001b[39m     \u001b[38;5;28;43mself\u001b[39;49m\u001b[43m.\u001b[49m\u001b[43m_publish_resume\u001b[49m\u001b[43m(\u001b[49m\u001b[43mresume\u001b[49m\u001b[43m)\u001b[49m\n",
      "\u001b[36mFile \u001b[39m\u001b[32m~/pyha-analyzer-2.0/.venv/lib/python3.11/site-packages/wandb/sdk/interface/interface_shared.py:293\u001b[39m, in \u001b[36mInterfaceShared._publish_resume\u001b[39m\u001b[34m(self, resume)\u001b[39m\n\u001b[32m    291\u001b[39m \u001b[38;5;28;01mdef\u001b[39;00m\u001b[38;5;250m \u001b[39m\u001b[34m_publish_resume\u001b[39m(\u001b[38;5;28mself\u001b[39m, resume: pb.ResumeRequest) -> \u001b[38;5;28;01mNone\u001b[39;00m:\n\u001b[32m    292\u001b[39m     rec = \u001b[38;5;28mself\u001b[39m._make_request(resume=resume)\n\u001b[32m--> \u001b[39m\u001b[32m293\u001b[39m     \u001b[38;5;28;43mself\u001b[39;49m\u001b[43m.\u001b[49m\u001b[43m_publish\u001b[49m\u001b[43m(\u001b[49m\u001b[43mrec\u001b[49m\u001b[43m)\u001b[49m\n",
      "\u001b[36mFile \u001b[39m\u001b[32m~/pyha-analyzer-2.0/.venv/lib/python3.11/site-packages/wandb/sdk/interface/interface_sock.py:39\u001b[39m, in \u001b[36mInterfaceSock._publish\u001b[39m\u001b[34m(self, record, local)\u001b[39m\n\u001b[32m     37\u001b[39m \u001b[38;5;28;01mdef\u001b[39;00m\u001b[38;5;250m \u001b[39m\u001b[34m_publish\u001b[39m(\u001b[38;5;28mself\u001b[39m, record: \u001b[33m\"\u001b[39m\u001b[33mpb.Record\u001b[39m\u001b[33m\"\u001b[39m, local: Optional[\u001b[38;5;28mbool\u001b[39m] = \u001b[38;5;28;01mNone\u001b[39;00m) -> \u001b[38;5;28;01mNone\u001b[39;00m:\n\u001b[32m     38\u001b[39m     \u001b[38;5;28mself\u001b[39m._assign(record)\n\u001b[32m---> \u001b[39m\u001b[32m39\u001b[39m     \u001b[38;5;28;43mself\u001b[39;49m\u001b[43m.\u001b[49m\u001b[43m_sock_client\u001b[49m\u001b[43m.\u001b[49m\u001b[43msend_record_publish\u001b[49m\u001b[43m(\u001b[49m\u001b[43mrecord\u001b[49m\u001b[43m)\u001b[49m\n",
      "\u001b[36mFile \u001b[39m\u001b[32m~/pyha-analyzer-2.0/.venv/lib/python3.11/site-packages/wandb/sdk/lib/sock_client.py:174\u001b[39m, in \u001b[36mSockClient.send_record_publish\u001b[39m\u001b[34m(self, record)\u001b[39m\n\u001b[32m    172\u001b[39m server_req.request_id = record.control.mailbox_slot\n\u001b[32m    173\u001b[39m server_req.record_publish.CopyFrom(record)\n\u001b[32m--> \u001b[39m\u001b[32m174\u001b[39m \u001b[38;5;28;43mself\u001b[39;49m\u001b[43m.\u001b[49m\u001b[43msend_server_request\u001b[49m\u001b[43m(\u001b[49m\u001b[43mserver_req\u001b[49m\u001b[43m)\u001b[49m\n",
      "\u001b[36mFile \u001b[39m\u001b[32m~/pyha-analyzer-2.0/.venv/lib/python3.11/site-packages/wandb/sdk/lib/sock_client.py:154\u001b[39m, in \u001b[36mSockClient.send_server_request\u001b[39m\u001b[34m(self, msg)\u001b[39m\n\u001b[32m    153\u001b[39m \u001b[38;5;28;01mdef\u001b[39;00m\u001b[38;5;250m \u001b[39m\u001b[34msend_server_request\u001b[39m(\u001b[38;5;28mself\u001b[39m, msg: spb.ServerRequest) -> \u001b[38;5;28;01mNone\u001b[39;00m:\n\u001b[32m--> \u001b[39m\u001b[32m154\u001b[39m     \u001b[38;5;28;43mself\u001b[39;49m\u001b[43m.\u001b[49m\u001b[43m_send_message\u001b[49m\u001b[43m(\u001b[49m\u001b[43mmsg\u001b[49m\u001b[43m)\u001b[49m\n",
      "\u001b[36mFile \u001b[39m\u001b[32m~/pyha-analyzer-2.0/.venv/lib/python3.11/site-packages/wandb/sdk/lib/sock_client.py:151\u001b[39m, in \u001b[36mSockClient._send_message\u001b[39m\u001b[34m(self, msg)\u001b[39m\n\u001b[32m    149\u001b[39m header = struct.pack(\u001b[33m\"\u001b[39m\u001b[33m<BI\u001b[39m\u001b[33m\"\u001b[39m, \u001b[38;5;28mord\u001b[39m(\u001b[33m\"\u001b[39m\u001b[33mW\u001b[39m\u001b[33m\"\u001b[39m), raw_size)\n\u001b[32m    150\u001b[39m \u001b[38;5;28;01mwith\u001b[39;00m \u001b[38;5;28mself\u001b[39m._lock:\n\u001b[32m--> \u001b[39m\u001b[32m151\u001b[39m     \u001b[38;5;28;43mself\u001b[39;49m\u001b[43m.\u001b[49m\u001b[43m_sendall_with_error_handle\u001b[49m\u001b[43m(\u001b[49m\u001b[43mheader\u001b[49m\u001b[43m \u001b[49m\u001b[43m+\u001b[49m\u001b[43m \u001b[49m\u001b[43mdata\u001b[49m\u001b[43m)\u001b[49m\n",
      "\u001b[36mFile \u001b[39m\u001b[32m~/pyha-analyzer-2.0/.venv/lib/python3.11/site-packages/wandb/sdk/lib/sock_client.py:130\u001b[39m, in \u001b[36mSockClient._sendall_with_error_handle\u001b[39m\u001b[34m(self, data)\u001b[39m\n\u001b[32m    128\u001b[39m start_time = time.monotonic()\n\u001b[32m    129\u001b[39m \u001b[38;5;28;01mtry\u001b[39;00m:\n\u001b[32m--> \u001b[39m\u001b[32m130\u001b[39m     sent = \u001b[38;5;28;43mself\u001b[39;49m\u001b[43m.\u001b[49m\u001b[43m_sock\u001b[49m\u001b[43m.\u001b[49m\u001b[43msend\u001b[49m\u001b[43m(\u001b[49m\u001b[43mdata\u001b[49m\u001b[43m)\u001b[49m\n\u001b[32m    131\u001b[39m     \u001b[38;5;66;03m# sent equal to 0 indicates a closed socket\u001b[39;00m\n\u001b[32m    132\u001b[39m     \u001b[38;5;28;01mif\u001b[39;00m sent == \u001b[32m0\u001b[39m:\n",
      "\u001b[31mBrokenPipeError\u001b[39m: [Errno 32] Broken pipe"
     ]
    }
   ],
   "source": [
    "trainer.evaluate(eval_dataset=coral_ads[\"test\"], metric_key_prefix=\"Soundscape\")"
   ]
  },
  {
   "cell_type": "markdown",
   "id": "6e38eb82",
   "metadata": {},
   "source": [
    "#"
   ]
  }
 ],
 "metadata": {
  "kernelspec": {
   "display_name": "project",
   "language": "python",
   "name": "project"
  },
  "language_info": {
   "codemirror_mode": {
    "name": "ipython",
    "version": 3
   },
   "file_extension": ".py",
   "mimetype": "text/x-python",
   "name": "python",
   "nbconvert_exporter": "python",
   "pygments_lexer": "ipython3",
   "version": "3.11.12"
  }
 },
 "nbformat": 4,
 "nbformat_minor": 5
}
